{
 "cells": [
  {
   "cell_type": "code",
   "execution_count": 3,
   "metadata": {},
   "outputs": [
    {
     "name": "stdout",
     "output_type": "stream",
     "text": [
      "Collecting tensorflow\n",
      "  Downloading tensorflow-2.13.0-cp311-cp311-macosx_10_15_x86_64.whl (216.3 MB)\n",
      "\u001b[2K     \u001b[90m━━━━━━━━━━━━━━━━━━━━━━━━━━━━━━━━━━━━━━━\u001b[0m \u001b[32m216.3/216.3 MB\u001b[0m \u001b[31m4.0 MB/s\u001b[0m eta \u001b[36m0:00:00\u001b[0m00:01\u001b[0m00:02\u001b[0m\n",
      "\u001b[?25hCollecting tensorflow-gpu\n",
      "  Using cached tensorflow-gpu-2.12.0.tar.gz (2.6 kB)\n",
      "  Preparing metadata (setup.py) ... \u001b[?25lerror\n",
      "  \u001b[1;31merror\u001b[0m: \u001b[1msubprocess-exited-with-error\u001b[0m\n",
      "  \n",
      "  \u001b[31m×\u001b[0m \u001b[32mpython setup.py egg_info\u001b[0m did not run successfully.\n",
      "  \u001b[31m│\u001b[0m exit code: \u001b[1;36m1\u001b[0m\n",
      "  \u001b[31m╰─>\u001b[0m \u001b[31m[46 lines of output]\u001b[0m\n",
      "  \u001b[31m   \u001b[0m Traceback (most recent call last):\n",
      "  \u001b[31m   \u001b[0m   File \"/Library/Frameworks/Python.framework/Versions/3.11/lib/python3.11/site-packages/pkg_resources/_vendor/packaging/requirements.py\", line 35, in __init__\n",
      "  \u001b[31m   \u001b[0m     parsed = parse_requirement(requirement_string)\n",
      "  \u001b[31m   \u001b[0m              ^^^^^^^^^^^^^^^^^^^^^^^^^^^^^^^^^^^^^\n",
      "  \u001b[31m   \u001b[0m   File \"/Library/Frameworks/Python.framework/Versions/3.11/lib/python3.11/site-packages/pkg_resources/_vendor/packaging/_parser.py\", line 64, in parse_requirement\n",
      "  \u001b[31m   \u001b[0m     return _parse_requirement(Tokenizer(source, rules=DEFAULT_RULES))\n",
      "  \u001b[31m   \u001b[0m            ^^^^^^^^^^^^^^^^^^^^^^^^^^^^^^^^^^^^^^^^^^^^^^^^^^^^^^^^^^\n",
      "  \u001b[31m   \u001b[0m   File \"/Library/Frameworks/Python.framework/Versions/3.11/lib/python3.11/site-packages/pkg_resources/_vendor/packaging/_parser.py\", line 82, in _parse_requirement\n",
      "  \u001b[31m   \u001b[0m     url, specifier, marker = _parse_requirement_details(tokenizer)\n",
      "  \u001b[31m   \u001b[0m                              ^^^^^^^^^^^^^^^^^^^^^^^^^^^^^^^^^^^^^\n",
      "  \u001b[31m   \u001b[0m   File \"/Library/Frameworks/Python.framework/Versions/3.11/lib/python3.11/site-packages/pkg_resources/_vendor/packaging/_parser.py\", line 126, in _parse_requirement_details\n",
      "  \u001b[31m   \u001b[0m     marker = _parse_requirement_marker(\n",
      "  \u001b[31m   \u001b[0m              ^^^^^^^^^^^^^^^^^^^^^^^^^^\n",
      "  \u001b[31m   \u001b[0m   File \"/Library/Frameworks/Python.framework/Versions/3.11/lib/python3.11/site-packages/pkg_resources/_vendor/packaging/_parser.py\", line 147, in _parse_requirement_marker\n",
      "  \u001b[31m   \u001b[0m     tokenizer.raise_syntax_error(\n",
      "  \u001b[31m   \u001b[0m   File \"/Library/Frameworks/Python.framework/Versions/3.11/lib/python3.11/site-packages/pkg_resources/_vendor/packaging/_tokenizer.py\", line 163, in raise_syntax_error\n",
      "  \u001b[31m   \u001b[0m     raise ParserSyntaxError(\n",
      "  \u001b[31m   \u001b[0m pkg_resources.extern.packaging._tokenizer.ParserSyntaxError: Expected end or semicolon (after name and no valid version specifier)\n",
      "  \u001b[31m   \u001b[0m     python_version>\"3.7\"\n",
      "  \u001b[31m   \u001b[0m                   ^\n",
      "  \u001b[31m   \u001b[0m \n",
      "  \u001b[31m   \u001b[0m The above exception was the direct cause of the following exception:\n",
      "  \u001b[31m   \u001b[0m \n",
      "  \u001b[31m   \u001b[0m Traceback (most recent call last):\n",
      "  \u001b[31m   \u001b[0m   File \"<string>\", line 2, in <module>\n",
      "  \u001b[31m   \u001b[0m   File \"<pip-setuptools-caller>\", line 34, in <module>\n",
      "  \u001b[31m   \u001b[0m   File \"/private/var/folders/y4/_7w280kj23l7chdqkfbmcxxm0000gq/T/pip-install-l7jrevya/tensorflow-gpu_6b296ce7b72b482c897dbf72a4f3cbdf/setup.py\", line 40, in <module>\n",
      "  \u001b[31m   \u001b[0m     setuptools.setup()\n",
      "  \u001b[31m   \u001b[0m   File \"/Library/Frameworks/Python.framework/Versions/3.11/lib/python3.11/site-packages/setuptools/__init__.py\", line 107, in setup\n",
      "  \u001b[31m   \u001b[0m     _install_setup_requires(attrs)\n",
      "  \u001b[31m   \u001b[0m   File \"/Library/Frameworks/Python.framework/Versions/3.11/lib/python3.11/site-packages/setuptools/__init__.py\", line 78, in _install_setup_requires\n",
      "  \u001b[31m   \u001b[0m     dist.parse_config_files(ignore_option_errors=True)\n",
      "  \u001b[31m   \u001b[0m   File \"/Library/Frameworks/Python.framework/Versions/3.11/lib/python3.11/site-packages/setuptools/dist.py\", line 874, in parse_config_files\n",
      "  \u001b[31m   \u001b[0m     self._finalize_requires()\n",
      "  \u001b[31m   \u001b[0m   File \"/Library/Frameworks/Python.framework/Versions/3.11/lib/python3.11/site-packages/setuptools/dist.py\", line 581, in _finalize_requires\n",
      "  \u001b[31m   \u001b[0m     self._move_install_requirements_markers()\n",
      "  \u001b[31m   \u001b[0m   File \"/Library/Frameworks/Python.framework/Versions/3.11/lib/python3.11/site-packages/setuptools/dist.py\", line 621, in _move_install_requirements_markers\n",
      "  \u001b[31m   \u001b[0m     inst_reqs = list(_reqs.parse(spec_inst_reqs))\n",
      "  \u001b[31m   \u001b[0m                 ^^^^^^^^^^^^^^^^^^^^^^^^^^^^^^^^^\n",
      "  \u001b[31m   \u001b[0m   File \"/Library/Frameworks/Python.framework/Versions/3.11/lib/python3.11/site-packages/pkg_resources/__init__.py\", line 3095, in __init__\n",
      "  \u001b[31m   \u001b[0m     super(Requirement, self).__init__(requirement_string)\n",
      "  \u001b[31m   \u001b[0m   File \"/Library/Frameworks/Python.framework/Versions/3.11/lib/python3.11/site-packages/pkg_resources/_vendor/packaging/requirements.py\", line 37, in __init__\n",
      "  \u001b[31m   \u001b[0m     raise InvalidRequirement(str(e)) from e\n",
      "  \u001b[31m   \u001b[0m pkg_resources.extern.packaging.requirements.InvalidRequirement: Expected end or semicolon (after name and no valid version specifier)\n",
      "  \u001b[31m   \u001b[0m     python_version>\"3.7\"\n",
      "  \u001b[31m   \u001b[0m                   ^\n",
      "  \u001b[31m   \u001b[0m \u001b[31m[end of output]\u001b[0m\n",
      "  \n",
      "  \u001b[1;35mnote\u001b[0m: This error originates from a subprocess, and is likely not a problem with pip.\n",
      "\u001b[?25h\u001b[1;31merror\u001b[0m: \u001b[1mmetadata-generation-failed\u001b[0m\n",
      "\n",
      "\u001b[31m×\u001b[0m Encountered error while generating package metadata.\n",
      "\u001b[31m╰─>\u001b[0m See above for output.\n",
      "\n",
      "\u001b[1;35mnote\u001b[0m: This is an issue with the package mentioned above, not pip.\n",
      "\u001b[1;36mhint\u001b[0m: See above for details.\n",
      "\n",
      "\u001b[1m[\u001b[0m\u001b[34;49mnotice\u001b[0m\u001b[1;39;49m]\u001b[0m\u001b[39;49m A new release of pip is available: \u001b[0m\u001b[31;49m23.0\u001b[0m\u001b[39;49m -> \u001b[0m\u001b[32;49m23.2.1\u001b[0m\n",
      "\u001b[1m[\u001b[0m\u001b[34;49mnotice\u001b[0m\u001b[1;39;49m]\u001b[0m\u001b[39;49m To update, run: \u001b[0m\u001b[32;49mpip install --upgrade pip\u001b[0m\n"
     ]
    }
   ],
   "source": [
    "!pip install tensorflow tensorflow-gpu opencv-python matplotlib"
   ]
  },
  {
   "cell_type": "code",
   "execution_count": 8,
   "metadata": {},
   "outputs": [
    {
     "name": "stdout",
     "output_type": "stream",
     "text": [
      "Collecting tensorflow-gpu\n",
      "  Using cached tensorflow-gpu-2.12.0.tar.gz (2.6 kB)\n",
      "  Preparing metadata (setup.py) ... \u001b[?25lerror\n",
      "  \u001b[1;31merror\u001b[0m: \u001b[1msubprocess-exited-with-error\u001b[0m\n",
      "  \n",
      "  \u001b[31m×\u001b[0m \u001b[32mpython setup.py egg_info\u001b[0m did not run successfully.\n",
      "  \u001b[31m│\u001b[0m exit code: \u001b[1;36m1\u001b[0m\n",
      "  \u001b[31m╰─>\u001b[0m \u001b[31m[46 lines of output]\u001b[0m\n",
      "  \u001b[31m   \u001b[0m Traceback (most recent call last):\n",
      "  \u001b[31m   \u001b[0m   File \"/Library/Frameworks/Python.framework/Versions/3.11/lib/python3.11/site-packages/pkg_resources/_vendor/packaging/requirements.py\", line 35, in __init__\n",
      "  \u001b[31m   \u001b[0m     parsed = parse_requirement(requirement_string)\n",
      "  \u001b[31m   \u001b[0m              ^^^^^^^^^^^^^^^^^^^^^^^^^^^^^^^^^^^^^\n",
      "  \u001b[31m   \u001b[0m   File \"/Library/Frameworks/Python.framework/Versions/3.11/lib/python3.11/site-packages/pkg_resources/_vendor/packaging/_parser.py\", line 64, in parse_requirement\n",
      "  \u001b[31m   \u001b[0m     return _parse_requirement(Tokenizer(source, rules=DEFAULT_RULES))\n",
      "  \u001b[31m   \u001b[0m            ^^^^^^^^^^^^^^^^^^^^^^^^^^^^^^^^^^^^^^^^^^^^^^^^^^^^^^^^^^\n",
      "  \u001b[31m   \u001b[0m   File \"/Library/Frameworks/Python.framework/Versions/3.11/lib/python3.11/site-packages/pkg_resources/_vendor/packaging/_parser.py\", line 82, in _parse_requirement\n",
      "  \u001b[31m   \u001b[0m     url, specifier, marker = _parse_requirement_details(tokenizer)\n",
      "  \u001b[31m   \u001b[0m                              ^^^^^^^^^^^^^^^^^^^^^^^^^^^^^^^^^^^^^\n",
      "  \u001b[31m   \u001b[0m   File \"/Library/Frameworks/Python.framework/Versions/3.11/lib/python3.11/site-packages/pkg_resources/_vendor/packaging/_parser.py\", line 126, in _parse_requirement_details\n",
      "  \u001b[31m   \u001b[0m     marker = _parse_requirement_marker(\n",
      "  \u001b[31m   \u001b[0m              ^^^^^^^^^^^^^^^^^^^^^^^^^^\n",
      "  \u001b[31m   \u001b[0m   File \"/Library/Frameworks/Python.framework/Versions/3.11/lib/python3.11/site-packages/pkg_resources/_vendor/packaging/_parser.py\", line 147, in _parse_requirement_marker\n",
      "  \u001b[31m   \u001b[0m     tokenizer.raise_syntax_error(\n",
      "  \u001b[31m   \u001b[0m   File \"/Library/Frameworks/Python.framework/Versions/3.11/lib/python3.11/site-packages/pkg_resources/_vendor/packaging/_tokenizer.py\", line 163, in raise_syntax_error\n",
      "  \u001b[31m   \u001b[0m     raise ParserSyntaxError(\n",
      "  \u001b[31m   \u001b[0m pkg_resources.extern.packaging._tokenizer.ParserSyntaxError: Expected end or semicolon (after name and no valid version specifier)\n",
      "  \u001b[31m   \u001b[0m     python_version>\"3.7\"\n",
      "  \u001b[31m   \u001b[0m                   ^\n",
      "  \u001b[31m   \u001b[0m \n",
      "  \u001b[31m   \u001b[0m The above exception was the direct cause of the following exception:\n",
      "  \u001b[31m   \u001b[0m \n",
      "  \u001b[31m   \u001b[0m Traceback (most recent call last):\n",
      "  \u001b[31m   \u001b[0m   File \"<string>\", line 2, in <module>\n",
      "  \u001b[31m   \u001b[0m   File \"<pip-setuptools-caller>\", line 34, in <module>\n",
      "  \u001b[31m   \u001b[0m   File \"/private/var/folders/y4/_7w280kj23l7chdqkfbmcxxm0000gq/T/pip-install-dr_4f6py/tensorflow-gpu_f9ad384fda184338a3f5f1700504f015/setup.py\", line 40, in <module>\n",
      "  \u001b[31m   \u001b[0m     setuptools.setup()\n",
      "  \u001b[31m   \u001b[0m   File \"/Library/Frameworks/Python.framework/Versions/3.11/lib/python3.11/site-packages/setuptools/__init__.py\", line 107, in setup\n",
      "  \u001b[31m   \u001b[0m     _install_setup_requires(attrs)\n",
      "  \u001b[31m   \u001b[0m   File \"/Library/Frameworks/Python.framework/Versions/3.11/lib/python3.11/site-packages/setuptools/__init__.py\", line 78, in _install_setup_requires\n",
      "  \u001b[31m   \u001b[0m     dist.parse_config_files(ignore_option_errors=True)\n",
      "  \u001b[31m   \u001b[0m   File \"/Library/Frameworks/Python.framework/Versions/3.11/lib/python3.11/site-packages/setuptools/dist.py\", line 874, in parse_config_files\n",
      "  \u001b[31m   \u001b[0m     self._finalize_requires()\n",
      "  \u001b[31m   \u001b[0m   File \"/Library/Frameworks/Python.framework/Versions/3.11/lib/python3.11/site-packages/setuptools/dist.py\", line 581, in _finalize_requires\n",
      "  \u001b[31m   \u001b[0m     self._move_install_requirements_markers()\n",
      "  \u001b[31m   \u001b[0m   File \"/Library/Frameworks/Python.framework/Versions/3.11/lib/python3.11/site-packages/setuptools/dist.py\", line 621, in _move_install_requirements_markers\n",
      "  \u001b[31m   \u001b[0m     inst_reqs = list(_reqs.parse(spec_inst_reqs))\n",
      "  \u001b[31m   \u001b[0m                 ^^^^^^^^^^^^^^^^^^^^^^^^^^^^^^^^^\n",
      "  \u001b[31m   \u001b[0m   File \"/Library/Frameworks/Python.framework/Versions/3.11/lib/python3.11/site-packages/pkg_resources/__init__.py\", line 3095, in __init__\n",
      "  \u001b[31m   \u001b[0m     super(Requirement, self).__init__(requirement_string)\n",
      "  \u001b[31m   \u001b[0m   File \"/Library/Frameworks/Python.framework/Versions/3.11/lib/python3.11/site-packages/pkg_resources/_vendor/packaging/requirements.py\", line 37, in __init__\n",
      "  \u001b[31m   \u001b[0m     raise InvalidRequirement(str(e)) from e\n",
      "  \u001b[31m   \u001b[0m pkg_resources.extern.packaging.requirements.InvalidRequirement: Expected end or semicolon (after name and no valid version specifier)\n",
      "  \u001b[31m   \u001b[0m     python_version>\"3.7\"\n",
      "  \u001b[31m   \u001b[0m                   ^\n",
      "  \u001b[31m   \u001b[0m \u001b[31m[end of output]\u001b[0m\n",
      "  \n",
      "  \u001b[1;35mnote\u001b[0m: This error originates from a subprocess, and is likely not a problem with pip.\n",
      "\u001b[?25h\u001b[1;31merror\u001b[0m: \u001b[1mmetadata-generation-failed\u001b[0m\n",
      "\n",
      "\u001b[31m×\u001b[0m Encountered error while generating package metadata.\n",
      "\u001b[31m╰─>\u001b[0m See above for output.\n",
      "\n",
      "\u001b[1;35mnote\u001b[0m: This is an issue with the package mentioned above, not pip.\n",
      "\u001b[1;36mhint\u001b[0m: See above for details.\n"
     ]
    }
   ],
   "source": [
    "!pip install tensorflow-gpu"
   ]
  },
  {
   "cell_type": "code",
   "execution_count": 11,
   "metadata": {},
   "outputs": [
    {
     "name": "stderr",
     "output_type": "stream",
     "text": [
      "2023-08-05 13:15:05.687533: I tensorflow/core/platform/cpu_feature_guard.cc:182] This TensorFlow binary is optimized to use available CPU instructions in performance-critical operations.\n",
      "To enable the following instructions: AVX2 FMA, in other operations, rebuild TensorFlow with the appropriate compiler flags.\n"
     ]
    }
   ],
   "source": [
    "import tensorflow as tf\n",
    "import os"
   ]
  },
  {
   "cell_type": "code",
   "execution_count": 19,
   "metadata": {},
   "outputs": [],
   "source": [
    "import cv2\n",
    "import imghdr"
   ]
  },
  {
   "cell_type": "code",
   "execution_count": 13,
   "metadata": {},
   "outputs": [],
   "source": [
    "data_dir = 'Cars'\n",
    "correct_ext = ['jpeg', 'jpg', 'bmp', 'png']"
   ]
  },
  {
   "cell_type": "code",
   "execution_count": 8,
   "metadata": {},
   "outputs": [
    {
     "ename": "NameError",
     "evalue": "name 'imghdr' is not defined",
     "output_type": "error",
     "traceback": [
      "\u001b[0;31m---------------------------------------------------------------------------\u001b[0m",
      "\u001b[0;31mNameError\u001b[0m                                 Traceback (most recent call last)",
      "Cell \u001b[0;32mIn[8], line 1\u001b[0m\n\u001b[0;32m----> 1\u001b[0m help(imghdr\u001b[39m.\u001b[39mwhat(path))\n",
      "\u001b[0;31mNameError\u001b[0m: name 'imghdr' is not defined"
     ]
    }
   ],
   "source": []
  },
  {
   "cell_type": "code",
   "execution_count": 20,
   "metadata": {},
   "outputs": [
    {
     "name": "stdout",
     "output_type": "stream",
     "text": [
      "Image does not have the correct extension: Cars/Volkswagen/Volkswagen-Tiguan-2017-all-space-ext-1a-front.jpg\n",
      "Image does not have the correct extension: Cars/Volkswagen/12666462165_bb634ac64d_c.jpg\n",
      "Image does not have the correct extension: Cars/Volkswagen/2023-volkswagen-id.-buzz-rendering.webp\n",
      "Image does not have the correct extension: Cars/Volkswagen/1920x1080.webp\n",
      "Image does not have the correct extension: Cars/Volkswagen/1200px-2007_Volkswagen_Golf_281K_MY0729_Sportline_2.0_TDI_5-door_hatchback_282010-07-0529.jpg\n",
      "Image does not have the correct extension: Cars/Volkswagen/.DS_Store\n",
      "Image does not have the correct extension: Cars/Volkswagen/25vwtaigo.jpg\n",
      "Image does not have the correct extension: Cars/Volkswagen/VOLKSWAGEN-GOLF-00.webp\n",
      "Image does not have the correct extension: Cars/Volkswagen/2017-volkswagen-beetle.webp\n",
      "Image does not have the correct extension: Cars/Volkswagen/stationwagen_volkswagen_variant_1_dot_2_tsi_comf_exe_nav_2012_7395397-12.jpg\n",
      "Image does not have the correct extension: Cars/Volkswagen/vw_polo_2002.jpg\n",
      "Image does not have the correct extension: Cars/Volkswagen/2560px-2017_Volkswagen_Golf_285G_MY1729_1.4_SE_TSI_hatchback_282017-08-3029.jpg\n",
      "Image does not have the correct extension: Cars/Volkswagen/2023-vw-id_3-facelift-sketch-eterior-1.jpg\n",
      "Image does not have the correct extension: Cars/Volkswagen/Volkswagen-Touareg_Edition_20-2022-1600-01-800x480.webp\n",
      "Image does not have the correct extension: Cars/Volkswagen/lancamentos-volkswagen-2023.webp\n",
      "Image does not have the correct extension: Cars/Volkswagen/2017-Volkswagen-Polo-GTI-8.jpg\n",
      "Image does not have the correct extension: Cars/Volkswagen/hatchback_auto_volkswagen_1_dot_2_55pk_trendline_2007_7452342.jpg\n",
      "Image does not have the correct extension: Cars/Volkswagen/250x188.webp\n",
      "Image does not have the correct extension: Cars/Volkswagen/2017-volkswagen-e-golf-review.webp\n",
      "Image does not have the correct extension: Cars/Volkswagen/250x188 3.webp\n",
      "Image does not have the correct extension: Cars/Volkswagen/stationwagen_volkswagen_variant_1_dot_2_tsi_comf_exe_nav_2012_7395397.jpg\n",
      "Image does not have the correct extension: Cars/Volkswagen/250x1882.webp\n",
      "Image does not have the correct extension: Cars/Volkswagen/hero 2.jpg\n",
      "Image does not have the correct extension: Cars/Volkswagen/250x1882 2.webp\n",
      "Image does not have the correct extension: Cars/Volkswagen/250x188 2.webp\n",
      "Image does not have the correct extension: Cars/Volkswagen/Volkswagen-Amarok-2023-1600-0d-1024x614.webp\n",
      "Image does not have the correct extension: Cars/Volkswagen/Essai-Volkswagen-ID-Buzz-Camper-Van-55.jpg\n",
      "Image does not have the correct extension: Cars/Volkswagen/2023-vw-golf-r.webp\n",
      "Image does not have the correct extension: Cars/Volkswagen/overige_personenwagens_volkswagen_golf_variant_van_tdi_74kw_2002_2002_5240024.jpg\n",
      "Image does not have the correct extension: Cars/Volkswagen/hero2.jpg\n",
      "Image does not have the correct extension: Cars/Volkswagen/26971269-volkswagen-scirocco-2012-nieuwe-design-coupe-in-dit-merk.jpg\n",
      "Image does not have the correct extension: Cars/Volkswagen/VOLKSWAGEN-GOLF-14.webp\n",
      "Image does not have the correct extension: Cars/Porsche/porsche-copertina-novita-2023.webp\n",
      "Image does not have the correct extension: Cars/Porsche/1920x1080.webp\n",
      "Image does not have the correct extension: Cars/Porsche/.DS_Store\n",
      "Image does not have the correct extension: Cars/Porsche/vector.svg\n",
      "Image does not have the correct extension: Cars/Porsche/PORSCHE-911-00.webp\n",
      "Image does not have the correct extension: Cars/Porsche/PORSCHE-TAYCAN-00.webp\n",
      "Image does not have the correct extension: Cars/Porsche/vector9.svg\n",
      "Image does not have the correct extension: Cars/Porsche/porsche_911_gt3.gif\n",
      "Image does not have the correct extension: Cars/Porsche/vector8.svg\n",
      "Image does not have the correct extension: Cars/Porsche/Porsche_Cayenne_2023_3.webp\n",
      "Image does not have the correct extension: Cars/Porsche/Rally20420Porsche202023.webp\n",
      "Image does not have the correct extension: Cars/Porsche/1662451002.webp\n",
      "Image does not have the correct extension: Cars/Porsche/1920x10802.webp\n"
     ]
    },
    {
     "name": "stderr",
     "output_type": "stream",
     "text": [
      "libpng warning: iCCP: known incorrect sRGB profile\n"
     ]
    },
    {
     "name": "stdout",
     "output_type": "stream",
     "text": [
      "Image does not have the correct extension: Cars/Porsche/1920x1080 2.webp\n",
      "Image does not have the correct extension: Cars/Porsche/PORSCHE-911-003.webp\n",
      "Image does not have the correct extension: Cars/Porsche/250x188.webp\n",
      "Image does not have the correct extension: Cars/Porsche/2017-porsche-911-gt3-pdk-first-drive.webp\n",
      "Image does not have the correct extension: Cars/Porsche/x96kiuu2.webp\n",
      "Image does not have the correct extension: Cars/Porsche/1280x960.webp\n",
      "Image does not have the correct extension: Cars/Porsche/08.jpg\n",
      "Image does not have the correct extension: Cars/Porsche/vector3.svg\n",
      "Image does not have the correct extension: Cars/Porsche/250x1883.webp\n",
      "Image does not have the correct extension: Cars/Porsche/vector2.svg\n",
      "Image does not have the correct extension: Cars/Porsche/vector6.svg\n",
      "Image does not have the correct extension: Cars/Porsche/250x1882.webp\n",
      "Image does not have the correct extension: Cars/Porsche/vector7.svg\n",
      "Image does not have the correct extension: Cars/Porsche/2023-Porsche-Taycan.jpg\n",
      "Image does not have the correct extension: Cars/Porsche/vector5.svg\n",
      "Image does not have the correct extension: Cars/Porsche/250x188 2.webp\n",
      "Image does not have the correct extension: Cars/Porsche/vector4.svg\n",
      "Image does not have the correct extension: Cars/Porsche/PORSCHE-911-TARGA-00.webp\n",
      "Image does not have the correct extension: Cars/Porsche/vector10.svg\n",
      "Image does not have the correct extension: Cars/Porsche/porsche-cayenne-e-hybrid-2023-review-foto19.jpg\n",
      "Image does not have the correct extension: Cars/Porsche/vector11.svg\n",
      "Image does not have the correct extension: Cars/Porsche/250x1884.webp\n",
      "[Errno 21] Is a directory: 'Cars/Porsche/5'\n",
      "Issue with image Cars/Porsche/5\n",
      "Image does not have the correct extension: Cars/Porsche/overige_personenwagens_porsche_996_carrera_4_s_carrera_4_s_full_option_2002_7259552.jpg\n",
      "Image does not have the correct extension: Cars/Porsche/vector12.svg\n"
     ]
    },
    {
     "ename": "NotADirectoryError",
     "evalue": "[Errno 20] Not a directory: 'Cars/.DS_Store'",
     "output_type": "error",
     "traceback": [
      "\u001b[0;31m---------------------------------------------------------------------------\u001b[0m",
      "\u001b[0;31mNotADirectoryError\u001b[0m                        Traceback (most recent call last)",
      "Cell \u001b[0;32mIn[20], line 2\u001b[0m\n\u001b[1;32m      1\u001b[0m \u001b[39mfor\u001b[39;00m brand \u001b[39min\u001b[39;00m os\u001b[39m.\u001b[39mlistdir(data_dir):\n\u001b[0;32m----> 2\u001b[0m     \u001b[39mfor\u001b[39;00m image \u001b[39min\u001b[39;00m os\u001b[39m.\u001b[39mlistdir(os\u001b[39m.\u001b[39mpath\u001b[39m.\u001b[39mjoin(data_dir, brand)):\n\u001b[1;32m      3\u001b[0m         image_path \u001b[39m=\u001b[39m os\u001b[39m.\u001b[39mpath\u001b[39m.\u001b[39mjoin(data_dir, brand, image)\n\u001b[1;32m      4\u001b[0m         \u001b[39mtry\u001b[39;00m:\n",
      "\u001b[0;31mNotADirectoryError\u001b[0m: [Errno 20] Not a directory: 'Cars/.DS_Store'"
     ]
    }
   ],
   "source": [
    "for brand in os.listdir(data_dir):\n",
    "    for image in os.listdir(os.path.join(data_dir, brand)):\n",
    "        image_path = os.path.join(data_dir, brand, image)\n",
    "        try:\n",
    "            img = cv2.imread(image_path)\n",
    "            img_ext = imghdr.what(image_path)\n",
    "            if img_ext not in correct_ext:\n",
    "                print(f'Image does not have the correct extension: {image_path}')\n",
    "                os.remove(image_path)\n",
    "        except Exception as e:\n",
    "            print(e)\n",
    "            print(f\"Issue with image {image_path}\")"
   ]
  },
  {
   "cell_type": "code",
   "execution_count": null,
   "metadata": {},
   "outputs": [],
   "source": []
  }
 ],
 "metadata": {
  "kernelspec": {
   "display_name": "Python 3",
   "language": "python",
   "name": "python3"
  },
  "language_info": {
   "codemirror_mode": {
    "name": "ipython",
    "version": 3
   },
   "file_extension": ".py",
   "mimetype": "text/x-python",
   "name": "python",
   "nbconvert_exporter": "python",
   "pygments_lexer": "ipython3",
   "version": "3.11.2"
  },
  "orig_nbformat": 4,
  "vscode": {
   "interpreter": {
    "hash": "aee8b7b246df8f9039afb4144a1f6fd8d2ca17a180786b69acc140d282b71a49"
   }
  }
 },
 "nbformat": 4,
 "nbformat_minor": 2
}
