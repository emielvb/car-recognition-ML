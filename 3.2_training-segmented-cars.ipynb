{
 "cells": [
  {
   "cell_type": "code",
   "execution_count": null,
   "metadata": {},
   "outputs": [],
   "source": [
    "# !pip3 install tensorflow"
   ]
  },
  {
   "cell_type": "code",
   "execution_count": 2,
   "metadata": {},
   "outputs": [],
   "source": [
    "import tensorflow as tf\n",
    "import os\n",
    "from tensorflow import keras\n",
    "from tensorflow.keras import layers\n",
    "from tensorflow.keras.models import Sequential\n",
    "import numpy as np\n",
    "from matplotlib import pyplot as plt"
   ]
  },
  {
   "cell_type": "code",
   "execution_count": 3,
   "metadata": {},
   "outputs": [],
   "source": [
    "# setup general info on batch sizes and img sizes\n",
    "batch_size = 32\n",
    "img_height = 256\n",
    "img_width = 256"
   ]
  },
  {
   "cell_type": "code",
   "execution_count": 4,
   "metadata": {},
   "outputs": [],
   "source": [
    "# taken from tf tutorial, unknown what this does so far\n",
    "AUTOTUNE = tf.data.AUTOTUNE"
   ]
  },
  {
   "cell_type": "code",
   "execution_count": 5,
   "metadata": {},
   "outputs": [
    {
     "name": "stdout",
     "output_type": "stream",
     "text": [
      "Found 3697 files belonging to 5 classes.\n",
      "Using 2958 files for training.\n"
     ]
    }
   ],
   "source": [
    "# generate training dataset\n",
    "train_ds = tf.keras.utils.image_dataset_from_directory(\n",
    "    \"Cars\",\n",
    "    validation_split= 0.2, # let the program know what the validation split will be in order to choose the correct size of this training set as well\n",
    "    subset=\"training\", # here we denote that this set will be the *training* set.\n",
    "    seed=123,\n",
    "    image_size = (img_height, img_width), # rescale images automatically\n",
    "    batch_size= batch_size\n",
    ") \n",
    "\n",
    "# randomly shuffle your data.\n",
    "train_ds_pref = train_ds.cache().shuffle(1000).prefetch(buffer_size=AUTOTUNE)\n",
    "\n",
    "# automatic labelling with this object, based on dict names.\n",
    "class_names = train_ds.class_names"
   ]
  },
  {
   "cell_type": "code",
   "execution_count": 6,
   "metadata": {},
   "outputs": [
    {
     "name": "stdout",
     "output_type": "stream",
     "text": [
      "Found 3697 files belonging to 5 classes.\n",
      "Using 739 files for validation.\n"
     ]
    }
   ],
   "source": [
    "# generate validation dataset\n",
    "val_ds = tf.keras.utils.image_dataset_from_directory(\n",
    "    \"Cars\",\n",
    "    validation_split= 0.2,\n",
    "    subset=\"validation\", # here we denote that this set will be the *validation* set.\n",
    "    seed=123, \n",
    "    image_size = (img_height, img_width),\n",
    "    batch_size= batch_size\n",
    ")\n",
    "\n",
    "# function of this line is currently unknown.\n",
    "val_ds_pref = val_ds.cache().prefetch(buffer_size=AUTOTUNE)"
   ]
  }
 ],
 "metadata": {
  "kernelspec": {
   "display_name": "newbase",
   "language": "python",
   "name": "python3"
  },
  "language_info": {
   "codemirror_mode": {
    "name": "ipython",
    "version": 3
   },
   "file_extension": ".py",
   "mimetype": "text/x-python",
   "name": "python",
   "nbconvert_exporter": "python",
   "pygments_lexer": "ipython3",
   "version": "3.11.4"
  },
  "orig_nbformat": 4
 },
 "nbformat": 4,
 "nbformat_minor": 2
}
