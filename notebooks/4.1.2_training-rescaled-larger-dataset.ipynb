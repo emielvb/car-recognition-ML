{
 "cells": [
  {
   "cell_type": "markdown",
   "metadata": {},
   "source": [
    "## Training with increased $N_{data}$\n",
    "(using the rescaled, smaller dataset)"
   ]
  },
  {
   "cell_type": "code",
   "execution_count": 1,
   "metadata": {},
   "outputs": [],
   "source": [
    "import tensorflow as tf\n",
    "import os\n",
    "from tensorflow import keras\n",
    "from tensorflow.keras import layers\n",
    "from tensorflow.keras.models import Sequential\n",
    "import numpy as np\n",
    "from matplotlib import pyplot as plt"
   ]
  },
  {
   "cell_type": "code",
   "execution_count": 2,
   "metadata": {},
   "outputs": [],
   "source": [
    "# setup general info on batch sizes and img sizes\n",
    "batch_size = 32\n",
    "img_height = 256\n",
    "img_width = 256"
   ]
  },
  {
   "cell_type": "code",
   "execution_count": 3,
   "metadata": {},
   "outputs": [],
   "source": [
    "# taken from tf tutorial, unknown what this does so far\n",
    "AUTOTUNE = tf.data.AUTOTUNE"
   ]
  },
  {
   "cell_type": "code",
   "execution_count": 4,
   "metadata": {},
   "outputs": [],
   "source": [
    "datadir = os.path.join('..', 'Data', 'cars-rescaled')"
   ]
  },
  {
   "cell_type": "code",
   "execution_count": 5,
   "metadata": {},
   "outputs": [
    {
     "name": "stdout",
     "output_type": "stream",
     "text": [
      "Found 31638 files belonging to 5 classes.\n",
      "Using 25311 files for training.\n"
     ]
    }
   ],
   "source": [
    "# generate training dataset\n",
    "train_ds = tf.keras.utils.image_dataset_from_directory(\n",
    "    datadir,\n",
    "    validation_split= 0.2, # let the program know what the validation split will be in order to choose the correct size of this training set as well\n",
    "    subset=\"training\", # here we denote that this set will be the *training* set.\n",
    "    seed=123,\n",
    "    image_size = (img_height, img_width), # rescale images automatically\n",
    "    batch_size= batch_size\n",
    ") \n",
    "\n",
    "# randomly shuffle your data.\n",
    "train_ds_pref = train_ds.cache().shuffle(1000).prefetch(buffer_size=AUTOTUNE)\n",
    "\n",
    "# automatic labelling with this object, based on dict names.\n",
    "class_names = train_ds.class_names"
   ]
  },
  {
   "cell_type": "code",
   "execution_count": 6,
   "metadata": {},
   "outputs": [
    {
     "name": "stdout",
     "output_type": "stream",
     "text": [
      "Found 31638 files belonging to 5 classes.\n",
      "Using 6327 files for validation.\n"
     ]
    }
   ],
   "source": [
    "# generate validation dataset\n",
    "val_ds = tf.keras.utils.image_dataset_from_directory(\n",
    "    datadir,\n",
    "    validation_split= 0.2,\n",
    "    subset=\"validation\", # here we denote that this set will be the *validation* set.\n",
    "    seed=123, \n",
    "    image_size = (img_height, img_width),\n",
    "    batch_size= batch_size\n",
    ")\n",
    "\n",
    "# function of this line is currently unknown.\n",
    "val_ds_pref = val_ds.cache().prefetch(buffer_size=AUTOTUNE)"
   ]
  },
  {
   "cell_type": "code",
   "execution_count": 7,
   "metadata": {},
   "outputs": [],
   "source": [
    "from tensorflow.keras.layers import RandomFlip, RandomRotation, RandomZoom"
   ]
  },
  {
   "cell_type": "code",
   "execution_count": 8,
   "metadata": {},
   "outputs": [],
   "source": [
    "data_augmentation = keras.Sequential(\n",
    "  [\n",
    "    layers.RandomFlip(\"horizontal\",\n",
    "                      input_shape=(img_height,\n",
    "                                  img_width,\n",
    "                                  3)),\n",
    "    layers.RandomRotation(0.1),\n",
    "    layers.RandomZoom(0.1),\n",
    "  ]\n",
    ")"
   ]
  },
  {
   "cell_type": "code",
   "execution_count": 9,
   "metadata": {},
   "outputs": [],
   "source": [
    "from tensorflow.keras.layers import Dropout"
   ]
  },
  {
   "cell_type": "code",
   "execution_count": 10,
   "metadata": {},
   "outputs": [],
   "source": [
    "num_classes = len(class_names)\n",
    "\n",
    "model = Sequential([\n",
    "  data_augmentation, # data augmentation as a very first step\n",
    "  layers.Rescaling(1./255),\n",
    "  layers.Conv2D(16, 3, padding='same', activation='relu'),\n",
    "  layers.MaxPooling2D(),\n",
    "  layers.Conv2D(32, 3, padding='same', activation='relu'),\n",
    "  layers.MaxPooling2D(),\n",
    "  layers.Conv2D(64, 3, padding='same', activation='relu'),\n",
    "  layers.MaxPooling2D(),\n",
    "  layers.Dropout(0.2), # here we perform the dropout.\n",
    "  layers.Flatten(),\n",
    "  layers.Dense(128, activation='relu'),\n",
    "  layers.Dense(num_classes, name=\"outputs\")\n",
    "])"
   ]
  },
  {
   "cell_type": "code",
   "execution_count": 11,
   "metadata": {},
   "outputs": [],
   "source": [
    "# compile the model\n",
    "model.compile(optimizer='adam', # choose the optimizer\n",
    "              loss=tf.keras.losses.SparseCategoricalCrossentropy(from_logits=True), # loss function is same as error function\n",
    "              metrics=['accuracy']) # choose which metrics to keep track of during optimization"
   ]
  },
  {
   "cell_type": "code",
   "execution_count": 12,
   "metadata": {},
   "outputs": [],
   "source": [
    "epochs = 45"
   ]
  },
  {
   "cell_type": "code",
   "execution_count": 13,
   "metadata": {},
   "outputs": [],
   "source": [
    "checkpoint_filepath = os.path.join('..', 'models', 'checkpoints')\n",
    "model_checkpoint_callback = tf.keras.callbacks.ModelCheckpoint(\n",
    "    filepath=checkpoint_filepath,\n",
    "    verbose=1, # no console output\n",
    "    save_freq='epoch', # save after each epoch\n",
    "    save_weights_only=False,\n",
    "    monitor='val_accuracy',\n",
    "    mode='max',\n",
    "    save_best_only=True)"
   ]
  },
  {
   "cell_type": "code",
   "execution_count": 14,
   "metadata": {},
   "outputs": [
    {
     "name": "stdout",
     "output_type": "stream",
     "text": [
      "Epoch 1/45\n",
      "791/791 [==============================] - ETA: 0s - loss: 1.6143 - accuracy: 0.2236\n",
      "Epoch 1: val_accuracy improved from -inf to 0.25367, saving model to ..\\models\\checkpoints\n",
      "INFO:tensorflow:Assets written to: ..\\models\\checkpoints\\assets\n"
     ]
    },
    {
     "name": "stderr",
     "output_type": "stream",
     "text": [
      "INFO:tensorflow:Assets written to: ..\\models\\checkpoints\\assets\n"
     ]
    },
    {
     "name": "stdout",
     "output_type": "stream",
     "text": [
      "791/791 [==============================] - 600s 686ms/step - loss: 1.6143 - accuracy: 0.2236 - val_loss: 1.5816 - val_accuracy: 0.2537\n",
      "Epoch 2/45\n",
      "791/791 [==============================] - ETA: 0s - loss: 1.5800 - accuracy: 0.2573\n",
      "Epoch 2: val_accuracy improved from 0.25367 to 0.27232, saving model to ..\\models\\checkpoints\n",
      "INFO:tensorflow:Assets written to: ..\\models\\checkpoints\\assets\n"
     ]
    },
    {
     "name": "stderr",
     "output_type": "stream",
     "text": [
      "INFO:tensorflow:Assets written to: ..\\models\\checkpoints\\assets\n"
     ]
    },
    {
     "name": "stdout",
     "output_type": "stream",
     "text": [
      "791/791 [==============================] - 542s 685ms/step - loss: 1.5800 - accuracy: 0.2573 - val_loss: 1.5755 - val_accuracy: 0.2723\n",
      "Epoch 3/45\n",
      "791/791 [==============================] - ETA: 0s - loss: 1.5576 - accuracy: 0.2849\n",
      "Epoch 3: val_accuracy improved from 0.27232 to 0.29714, saving model to ..\\models\\checkpoints\n",
      "INFO:tensorflow:Assets written to: ..\\models\\checkpoints\\assets\n"
     ]
    },
    {
     "name": "stderr",
     "output_type": "stream",
     "text": [
      "INFO:tensorflow:Assets written to: ..\\models\\checkpoints\\assets\n"
     ]
    },
    {
     "name": "stdout",
     "output_type": "stream",
     "text": [
      "791/791 [==============================] - 541s 684ms/step - loss: 1.5576 - accuracy: 0.2849 - val_loss: 1.5525 - val_accuracy: 0.2971\n",
      "Epoch 4/45\n",
      "791/791 [==============================] - ETA: 0s - loss: 1.5119 - accuracy: 0.3242\n",
      "Epoch 4: val_accuracy improved from 0.29714 to 0.36289, saving model to ..\\models\\checkpoints\n",
      "INFO:tensorflow:Assets written to: ..\\models\\checkpoints\\assets\n"
     ]
    },
    {
     "name": "stderr",
     "output_type": "stream",
     "text": [
      "INFO:tensorflow:Assets written to: ..\\models\\checkpoints\\assets\n"
     ]
    },
    {
     "name": "stdout",
     "output_type": "stream",
     "text": [
      "791/791 [==============================] - 564s 713ms/step - loss: 1.5119 - accuracy: 0.3242 - val_loss: 1.4814 - val_accuracy: 0.3629\n",
      "Epoch 5/45\n",
      "791/791 [==============================] - ETA: 0s - loss: 1.4541 - accuracy: 0.3683\n",
      "Epoch 5: val_accuracy improved from 0.36289 to 0.36305, saving model to ..\\models\\checkpoints\n",
      "INFO:tensorflow:Assets written to: ..\\models\\checkpoints\\assets\n"
     ]
    },
    {
     "name": "stderr",
     "output_type": "stream",
     "text": [
      "INFO:tensorflow:Assets written to: ..\\models\\checkpoints\\assets\n"
     ]
    },
    {
     "name": "stdout",
     "output_type": "stream",
     "text": [
      "791/791 [==============================] - 595s 752ms/step - loss: 1.4541 - accuracy: 0.3683 - val_loss: 1.5039 - val_accuracy: 0.3630\n",
      "Epoch 6/45\n",
      "791/791 [==============================] - ETA: 0s - loss: 1.3847 - accuracy: 0.4109\n",
      "Epoch 6: val_accuracy improved from 0.36305 to 0.41900, saving model to ..\\models\\checkpoints\n",
      "INFO:tensorflow:Assets written to: ..\\models\\checkpoints\\assets\n"
     ]
    },
    {
     "name": "stderr",
     "output_type": "stream",
     "text": [
      "INFO:tensorflow:Assets written to: ..\\models\\checkpoints\\assets\n"
     ]
    },
    {
     "name": "stdout",
     "output_type": "stream",
     "text": [
      "791/791 [==============================] - 599s 758ms/step - loss: 1.3847 - accuracy: 0.4109 - val_loss: 1.3957 - val_accuracy: 0.4190\n",
      "Epoch 7/45\n",
      "791/791 [==============================] - ETA: 0s - loss: 1.3261 - accuracy: 0.4417\n",
      "Epoch 7: val_accuracy improved from 0.41900 to 0.44065, saving model to ..\\models\\checkpoints\n",
      "INFO:tensorflow:Assets written to: ..\\models\\checkpoints\\assets\n"
     ]
    },
    {
     "name": "stderr",
     "output_type": "stream",
     "text": [
      "INFO:tensorflow:Assets written to: ..\\models\\checkpoints\\assets\n"
     ]
    },
    {
     "name": "stdout",
     "output_type": "stream",
     "text": [
      "791/791 [==============================] - 608s 768ms/step - loss: 1.3261 - accuracy: 0.4417 - val_loss: 1.3382 - val_accuracy: 0.4407\n",
      "Epoch 8/45\n",
      "791/791 [==============================] - ETA: 0s - loss: 1.2758 - accuracy: 0.4653\n",
      "Epoch 8: val_accuracy improved from 0.44065 to 0.46973, saving model to ..\\models\\checkpoints\n",
      "INFO:tensorflow:Assets written to: ..\\models\\checkpoints\\assets\n"
     ]
    },
    {
     "name": "stderr",
     "output_type": "stream",
     "text": [
      "INFO:tensorflow:Assets written to: ..\\models\\checkpoints\\assets\n"
     ]
    },
    {
     "name": "stdout",
     "output_type": "stream",
     "text": [
      "791/791 [==============================] - 630s 796ms/step - loss: 1.2758 - accuracy: 0.4653 - val_loss: 1.2861 - val_accuracy: 0.4697\n",
      "Epoch 9/45\n",
      "791/791 [==============================] - ETA: 0s - loss: 1.2328 - accuracy: 0.4912\n",
      "Epoch 9: val_accuracy improved from 0.46973 to 0.48443, saving model to ..\\models\\checkpoints\n",
      "INFO:tensorflow:Assets written to: ..\\models\\checkpoints\\assets\n"
     ]
    },
    {
     "name": "stderr",
     "output_type": "stream",
     "text": [
      "INFO:tensorflow:Assets written to: ..\\models\\checkpoints\\assets\n"
     ]
    },
    {
     "name": "stdout",
     "output_type": "stream",
     "text": [
      "791/791 [==============================] - 617s 780ms/step - loss: 1.2328 - accuracy: 0.4912 - val_loss: 1.2651 - val_accuracy: 0.4844\n",
      "Epoch 10/45\n",
      "791/791 [==============================] - ETA: 0s - loss: 1.1915 - accuracy: 0.5163\n",
      "Epoch 10: val_accuracy improved from 0.48443 to 0.50308, saving model to ..\\models\\checkpoints\n",
      "INFO:tensorflow:Assets written to: ..\\models\\checkpoints\\assets\n"
     ]
    },
    {
     "name": "stderr",
     "output_type": "stream",
     "text": [
      "INFO:tensorflow:Assets written to: ..\\models\\checkpoints\\assets\n"
     ]
    },
    {
     "name": "stdout",
     "output_type": "stream",
     "text": [
      "791/791 [==============================] - 620s 783ms/step - loss: 1.1915 - accuracy: 0.5163 - val_loss: 1.2106 - val_accuracy: 0.5031\n",
      "Epoch 11/45\n",
      "791/791 [==============================] - ETA: 0s - loss: 1.1605 - accuracy: 0.5274\n",
      "Epoch 11: val_accuracy improved from 0.50308 to 0.50972, saving model to ..\\models\\checkpoints\n",
      "INFO:tensorflow:Assets written to: ..\\models\\checkpoints\\assets\n"
     ]
    },
    {
     "name": "stderr",
     "output_type": "stream",
     "text": [
      "INFO:tensorflow:Assets written to: ..\\models\\checkpoints\\assets\n"
     ]
    },
    {
     "name": "stdout",
     "output_type": "stream",
     "text": [
      "791/791 [==============================] - 669s 846ms/step - loss: 1.1605 - accuracy: 0.5274 - val_loss: 1.2260 - val_accuracy: 0.5097\n",
      "Epoch 12/45\n",
      "791/791 [==============================] - ETA: 0s - loss: 1.1248 - accuracy: 0.5445\n",
      "Epoch 12: val_accuracy improved from 0.50972 to 0.51636, saving model to ..\\models\\checkpoints\n",
      "INFO:tensorflow:Assets written to: ..\\models\\checkpoints\\assets\n"
     ]
    },
    {
     "name": "stderr",
     "output_type": "stream",
     "text": [
      "INFO:tensorflow:Assets written to: ..\\models\\checkpoints\\assets\n"
     ]
    },
    {
     "name": "stdout",
     "output_type": "stream",
     "text": [
      "791/791 [==============================] - 660s 834ms/step - loss: 1.1248 - accuracy: 0.5445 - val_loss: 1.2343 - val_accuracy: 0.5164\n",
      "Epoch 13/45\n",
      "791/791 [==============================] - ETA: 0s - loss: 1.0973 - accuracy: 0.5612\n",
      "Epoch 13: val_accuracy improved from 0.51636 to 0.54576, saving model to ..\\models\\checkpoints\n",
      "INFO:tensorflow:Assets written to: ..\\models\\checkpoints\\assets\n"
     ]
    },
    {
     "name": "stderr",
     "output_type": "stream",
     "text": [
      "INFO:tensorflow:Assets written to: ..\\models\\checkpoints\\assets\n"
     ]
    },
    {
     "name": "stdout",
     "output_type": "stream",
     "text": [
      "791/791 [==============================] - 640s 809ms/step - loss: 1.0973 - accuracy: 0.5612 - val_loss: 1.1623 - val_accuracy: 0.5458\n",
      "Epoch 14/45\n",
      "791/791 [==============================] - ETA: 0s - loss: 1.0716 - accuracy: 0.5712\n",
      "Epoch 14: val_accuracy improved from 0.54576 to 0.55666, saving model to ..\\models\\checkpoints\n",
      "INFO:tensorflow:Assets written to: ..\\models\\checkpoints\\assets\n"
     ]
    },
    {
     "name": "stderr",
     "output_type": "stream",
     "text": [
      "INFO:tensorflow:Assets written to: ..\\models\\checkpoints\\assets\n"
     ]
    },
    {
     "name": "stdout",
     "output_type": "stream",
     "text": [
      "791/791 [==============================] - 676s 855ms/step - loss: 1.0716 - accuracy: 0.5712 - val_loss: 1.1234 - val_accuracy: 0.5567\n",
      "Epoch 15/45\n",
      "791/791 [==============================] - ETA: 0s - loss: 1.0466 - accuracy: 0.5838\n",
      "Epoch 15: val_accuracy did not improve from 0.55666\n",
      "791/791 [==============================] - 650s 822ms/step - loss: 1.0466 - accuracy: 0.5838 - val_loss: 1.1337 - val_accuracy: 0.5486\n",
      "Epoch 16/45\n",
      "791/791 [==============================] - ETA: 0s - loss: 1.0244 - accuracy: 0.5936\n",
      "Epoch 16: val_accuracy improved from 0.55666 to 0.56393, saving model to ..\\models\\checkpoints\n",
      "INFO:tensorflow:Assets written to: ..\\models\\checkpoints\\assets\n"
     ]
    },
    {
     "name": "stderr",
     "output_type": "stream",
     "text": [
      "INFO:tensorflow:Assets written to: ..\\models\\checkpoints\\assets\n"
     ]
    },
    {
     "name": "stdout",
     "output_type": "stream",
     "text": [
      "791/791 [==============================] - 659s 833ms/step - loss: 1.0244 - accuracy: 0.5936 - val_loss: 1.1360 - val_accuracy: 0.5639\n",
      "Epoch 17/45\n",
      "791/791 [==============================] - ETA: 0s - loss: 1.0048 - accuracy: 0.6015\n",
      "Epoch 17: val_accuracy improved from 0.56393 to 0.56456, saving model to ..\\models\\checkpoints\n",
      "INFO:tensorflow:Assets written to: ..\\models\\checkpoints\\assets\n"
     ]
    },
    {
     "name": "stderr",
     "output_type": "stream",
     "text": [
      "INFO:tensorflow:Assets written to: ..\\models\\checkpoints\\assets\n"
     ]
    },
    {
     "name": "stdout",
     "output_type": "stream",
     "text": [
      "791/791 [==============================] - 658s 833ms/step - loss: 1.0048 - accuracy: 0.6015 - val_loss: 1.1283 - val_accuracy: 0.5646\n",
      "Epoch 18/45\n",
      "791/791 [==============================] - ETA: 0s - loss: 0.9876 - accuracy: 0.6087\n",
      "Epoch 18: val_accuracy improved from 0.56456 to 0.58985, saving model to ..\\models\\checkpoints\n",
      "INFO:tensorflow:Assets written to: ..\\models\\checkpoints\\assets\n"
     ]
    },
    {
     "name": "stderr",
     "output_type": "stream",
     "text": [
      "INFO:tensorflow:Assets written to: ..\\models\\checkpoints\\assets\n"
     ]
    },
    {
     "name": "stdout",
     "output_type": "stream",
     "text": [
      "791/791 [==============================] - 719s 910ms/step - loss: 0.9876 - accuracy: 0.6087 - val_loss: 1.0690 - val_accuracy: 0.5899\n",
      "Epoch 19/45\n",
      "791/791 [==============================] - ETA: 0s - loss: 0.9666 - accuracy: 0.6170\n",
      "Epoch 19: val_accuracy improved from 0.58985 to 0.59128, saving model to ..\\models\\checkpoints\n",
      "INFO:tensorflow:Assets written to: ..\\models\\checkpoints\\assets\n"
     ]
    },
    {
     "name": "stderr",
     "output_type": "stream",
     "text": [
      "INFO:tensorflow:Assets written to: ..\\models\\checkpoints\\assets\n"
     ]
    },
    {
     "name": "stdout",
     "output_type": "stream",
     "text": [
      "791/791 [==============================] - 656s 829ms/step - loss: 0.9666 - accuracy: 0.6170 - val_loss: 1.0532 - val_accuracy: 0.5913\n",
      "Epoch 20/45\n",
      "791/791 [==============================] - ETA: 0s - loss: 0.9498 - accuracy: 0.6260\n",
      "Epoch 20: val_accuracy improved from 0.59128 to 0.60139, saving model to ..\\models\\checkpoints\n",
      "INFO:tensorflow:Assets written to: ..\\models\\checkpoints\\assets\n"
     ]
    },
    {
     "name": "stderr",
     "output_type": "stream",
     "text": [
      "INFO:tensorflow:Assets written to: ..\\models\\checkpoints\\assets\n"
     ]
    },
    {
     "name": "stdout",
     "output_type": "stream",
     "text": [
      "791/791 [==============================] - 672s 850ms/step - loss: 0.9498 - accuracy: 0.6260 - val_loss: 1.0665 - val_accuracy: 0.6014\n",
      "Epoch 21/45\n",
      "791/791 [==============================] - ETA: 0s - loss: 0.9395 - accuracy: 0.6320\n",
      "Epoch 21: val_accuracy did not improve from 0.60139\n",
      "791/791 [==============================] - 700s 885ms/step - loss: 0.9395 - accuracy: 0.6320 - val_loss: 1.1056 - val_accuracy: 0.5845\n",
      "Epoch 22/45\n",
      "791/791 [==============================] - ETA: 0s - loss: 0.9285 - accuracy: 0.6338\n",
      "Epoch 22: val_accuracy did not improve from 0.60139\n",
      "791/791 [==============================] - 671s 849ms/step - loss: 0.9285 - accuracy: 0.6338 - val_loss: 1.1532 - val_accuracy: 0.5794\n",
      "Epoch 23/45\n",
      "791/791 [==============================] - ETA: 0s - loss: 0.9045 - accuracy: 0.6417\n",
      "Epoch 23: val_accuracy did not improve from 0.60139\n",
      "791/791 [==============================] - 686s 868ms/step - loss: 0.9045 - accuracy: 0.6417 - val_loss: 1.1933 - val_accuracy: 0.5635\n",
      "Epoch 24/45\n",
      "791/791 [==============================] - ETA: 0s - loss: 0.8978 - accuracy: 0.6500\n",
      "Epoch 24: val_accuracy improved from 0.60139 to 0.61135, saving model to ..\\models\\checkpoints\n",
      "INFO:tensorflow:Assets written to: ..\\models\\checkpoints\\assets\n"
     ]
    },
    {
     "name": "stderr",
     "output_type": "stream",
     "text": [
      "INFO:tensorflow:Assets written to: ..\\models\\checkpoints\\assets\n"
     ]
    },
    {
     "name": "stdout",
     "output_type": "stream",
     "text": [
      "791/791 [==============================] - 676s 855ms/step - loss: 0.8978 - accuracy: 0.6500 - val_loss: 1.0715 - val_accuracy: 0.6113\n",
      "Epoch 25/45\n",
      "791/791 [==============================] - ETA: 0s - loss: 0.8847 - accuracy: 0.6494\n",
      "Epoch 25: val_accuracy improved from 0.61135 to 0.61625, saving model to ..\\models\\checkpoints\n",
      "INFO:tensorflow:Assets written to: ..\\models\\checkpoints\\assets\n"
     ]
    },
    {
     "name": "stderr",
     "output_type": "stream",
     "text": [
      "INFO:tensorflow:Assets written to: ..\\models\\checkpoints\\assets\n"
     ]
    },
    {
     "name": "stdout",
     "output_type": "stream",
     "text": [
      "791/791 [==============================] - 684s 865ms/step - loss: 0.8847 - accuracy: 0.6494 - val_loss: 1.0454 - val_accuracy: 0.6162\n",
      "Epoch 26/45\n",
      "791/791 [==============================] - ETA: 0s - loss: 0.8718 - accuracy: 0.6610\n",
      "Epoch 26: val_accuracy did not improve from 0.61625\n",
      "791/791 [==============================] - 667s 844ms/step - loss: 0.8718 - accuracy: 0.6610 - val_loss: 1.0640 - val_accuracy: 0.6156\n",
      "Epoch 27/45\n",
      "791/791 [==============================] - ETA: 0s - loss: 0.8654 - accuracy: 0.6643\n",
      "Epoch 27: val_accuracy improved from 0.61625 to 0.62036, saving model to ..\\models\\checkpoints\n",
      "INFO:tensorflow:Assets written to: ..\\models\\checkpoints\\assets\n"
     ]
    },
    {
     "name": "stderr",
     "output_type": "stream",
     "text": [
      "INFO:tensorflow:Assets written to: ..\\models\\checkpoints\\assets\n"
     ]
    },
    {
     "name": "stdout",
     "output_type": "stream",
     "text": [
      "791/791 [==============================] - 674s 852ms/step - loss: 0.8654 - accuracy: 0.6643 - val_loss: 1.0554 - val_accuracy: 0.6204\n",
      "Epoch 28/45\n",
      "791/791 [==============================] - ETA: 0s - loss: 0.8464 - accuracy: 0.6722\n",
      "Epoch 28: val_accuracy did not improve from 0.62036\n",
      "791/791 [==============================] - 729s 922ms/step - loss: 0.8464 - accuracy: 0.6722 - val_loss: 1.1149 - val_accuracy: 0.6068\n",
      "Epoch 29/45\n",
      "791/791 [==============================] - ETA: 0s - loss: 0.8426 - accuracy: 0.6723\n",
      "Epoch 29: val_accuracy did not improve from 0.62036\n",
      "791/791 [==============================] - 710s 898ms/step - loss: 0.8426 - accuracy: 0.6723 - val_loss: 1.0783 - val_accuracy: 0.6118\n",
      "Epoch 30/45\n",
      "791/791 [==============================] - ETA: 0s - loss: 0.8345 - accuracy: 0.6748\n",
      "Epoch 30: val_accuracy did not improve from 0.62036\n",
      "791/791 [==============================] - 714s 903ms/step - loss: 0.8345 - accuracy: 0.6748 - val_loss: 1.1613 - val_accuracy: 0.5919\n",
      "Epoch 31/45\n",
      "791/791 [==============================] - ETA: 0s - loss: 0.8256 - accuracy: 0.6798\n",
      "Epoch 31: val_accuracy improved from 0.62036 to 0.62668, saving model to ..\\models\\checkpoints\n",
      "INFO:tensorflow:Assets written to: ..\\models\\checkpoints\\assets\n"
     ]
    },
    {
     "name": "stderr",
     "output_type": "stream",
     "text": [
      "INFO:tensorflow:Assets written to: ..\\models\\checkpoints\\assets\n"
     ]
    },
    {
     "name": "stdout",
     "output_type": "stream",
     "text": [
      "791/791 [==============================] - 714s 903ms/step - loss: 0.8256 - accuracy: 0.6798 - val_loss: 1.0289 - val_accuracy: 0.6267\n",
      "Epoch 32/45\n",
      "791/791 [==============================] - ETA: 0s - loss: 0.8140 - accuracy: 0.6857\n",
      "Epoch 32: val_accuracy improved from 0.62668 to 0.63632, saving model to ..\\models\\checkpoints\n",
      "INFO:tensorflow:Assets written to: ..\\models\\checkpoints\\assets\n"
     ]
    },
    {
     "name": "stderr",
     "output_type": "stream",
     "text": [
      "INFO:tensorflow:Assets written to: ..\\models\\checkpoints\\assets\n"
     ]
    },
    {
     "name": "stdout",
     "output_type": "stream",
     "text": [
      "791/791 [==============================] - 711s 898ms/step - loss: 0.8140 - accuracy: 0.6857 - val_loss: 1.0101 - val_accuracy: 0.6363\n",
      "Epoch 33/45\n",
      "791/791 [==============================] - ETA: 0s - loss: 0.8051 - accuracy: 0.6874\n",
      "Epoch 33: val_accuracy did not improve from 0.63632\n",
      "791/791 [==============================] - 706s 892ms/step - loss: 0.8051 - accuracy: 0.6874 - val_loss: 1.0761 - val_accuracy: 0.6251\n",
      "Epoch 34/45\n",
      "791/791 [==============================] - ETA: 0s - loss: 0.7949 - accuracy: 0.6910\n",
      "Epoch 34: val_accuracy did not improve from 0.63632\n",
      "791/791 [==============================] - 692s 874ms/step - loss: 0.7949 - accuracy: 0.6910 - val_loss: 1.0653 - val_accuracy: 0.6278\n",
      "Epoch 35/45\n",
      "791/791 [==============================] - ETA: 0s - loss: 0.7776 - accuracy: 0.7019\n",
      "Epoch 35: val_accuracy improved from 0.63632 to 0.63679, saving model to ..\\models\\checkpoints\n",
      "INFO:tensorflow:Assets written to: ..\\models\\checkpoints\\assets\n"
     ]
    },
    {
     "name": "stderr",
     "output_type": "stream",
     "text": [
      "INFO:tensorflow:Assets written to: ..\\models\\checkpoints\\assets\n"
     ]
    },
    {
     "name": "stdout",
     "output_type": "stream",
     "text": [
      "791/791 [==============================] - 700s 885ms/step - loss: 0.7776 - accuracy: 0.7019 - val_loss: 1.0551 - val_accuracy: 0.6368\n",
      "Epoch 36/45\n",
      "791/791 [==============================] - ETA: 0s - loss: 0.7801 - accuracy: 0.7002\n",
      "Epoch 36: val_accuracy improved from 0.63679 to 0.64723, saving model to ..\\models\\checkpoints\n",
      "INFO:tensorflow:Assets written to: ..\\models\\checkpoints\\assets\n"
     ]
    },
    {
     "name": "stderr",
     "output_type": "stream",
     "text": [
      "INFO:tensorflow:Assets written to: ..\\models\\checkpoints\\assets\n"
     ]
    },
    {
     "name": "stdout",
     "output_type": "stream",
     "text": [
      "791/791 [==============================] - 672s 849ms/step - loss: 0.7801 - accuracy: 0.7002 - val_loss: 1.0100 - val_accuracy: 0.6472\n",
      "Epoch 37/45\n",
      "791/791 [==============================] - ETA: 0s - loss: 0.7663 - accuracy: 0.7065\n",
      "Epoch 37: val_accuracy did not improve from 0.64723\n",
      "791/791 [==============================] - 674s 852ms/step - loss: 0.7663 - accuracy: 0.7065 - val_loss: 1.1150 - val_accuracy: 0.6279\n",
      "Epoch 38/45\n",
      "791/791 [==============================] - ETA: 0s - loss: 0.7587 - accuracy: 0.7086\n",
      "Epoch 38: val_accuracy did not improve from 0.64723\n",
      "791/791 [==============================] - 666s 841ms/step - loss: 0.7587 - accuracy: 0.7086 - val_loss: 1.0348 - val_accuracy: 0.6401\n",
      "Epoch 39/45\n",
      "791/791 [==============================] - ETA: 0s - loss: 0.7563 - accuracy: 0.7077\n",
      "Epoch 39: val_accuracy improved from 0.64723 to 0.65055, saving model to ..\\models\\checkpoints\n",
      "INFO:tensorflow:Assets written to: ..\\models\\checkpoints\\assets\n"
     ]
    },
    {
     "name": "stderr",
     "output_type": "stream",
     "text": [
      "INFO:tensorflow:Assets written to: ..\\models\\checkpoints\\assets\n"
     ]
    },
    {
     "name": "stdout",
     "output_type": "stream",
     "text": [
      "791/791 [==============================] - 670s 847ms/step - loss: 0.7563 - accuracy: 0.7077 - val_loss: 1.0307 - val_accuracy: 0.6505\n",
      "Epoch 40/45\n",
      "791/791 [==============================] - ETA: 0s - loss: 0.7531 - accuracy: 0.7108\n",
      "Epoch 40: val_accuracy did not improve from 0.65055\n",
      "791/791 [==============================] - 671s 849ms/step - loss: 0.7531 - accuracy: 0.7108 - val_loss: 1.0972 - val_accuracy: 0.6357\n",
      "Epoch 41/45\n",
      "791/791 [==============================] - ETA: 0s - loss: 0.7378 - accuracy: 0.7218\n",
      "Epoch 41: val_accuracy did not improve from 0.65055\n",
      "791/791 [==============================] - 672s 850ms/step - loss: 0.7378 - accuracy: 0.7218 - val_loss: 1.0601 - val_accuracy: 0.6464\n",
      "Epoch 42/45\n",
      "791/791 [==============================] - ETA: 0s - loss: 0.7384 - accuracy: 0.7189\n",
      "Epoch 42: val_accuracy did not improve from 0.65055\n",
      "791/791 [==============================] - 662s 837ms/step - loss: 0.7384 - accuracy: 0.7189 - val_loss: 1.0316 - val_accuracy: 0.6468\n",
      "Epoch 43/45\n",
      "791/791 [==============================] - ETA: 0s - loss: 0.7345 - accuracy: 0.7206\n",
      "Epoch 43: val_accuracy did not improve from 0.65055\n",
      "791/791 [==============================] - 666s 843ms/step - loss: 0.7345 - accuracy: 0.7206 - val_loss: 1.0511 - val_accuracy: 0.6479\n",
      "Epoch 44/45\n",
      "791/791 [==============================] - ETA: 0s - loss: 0.7246 - accuracy: 0.7244\n",
      "Epoch 44: val_accuracy improved from 0.65055 to 0.65766, saving model to ..\\models\\checkpoints\n",
      "INFO:tensorflow:Assets written to: ..\\models\\checkpoints\\assets\n"
     ]
    },
    {
     "name": "stderr",
     "output_type": "stream",
     "text": [
      "INFO:tensorflow:Assets written to: ..\\models\\checkpoints\\assets\n"
     ]
    },
    {
     "name": "stdout",
     "output_type": "stream",
     "text": [
      "791/791 [==============================] - 676s 854ms/step - loss: 0.7246 - accuracy: 0.7244 - val_loss: 1.0342 - val_accuracy: 0.6577\n",
      "Epoch 45/45\n",
      "791/791 [==============================] - ETA: 0s - loss: 0.7180 - accuracy: 0.7269\n",
      "Epoch 45: val_accuracy did not improve from 0.65766\n",
      "791/791 [==============================] - 733s 926ms/step - loss: 0.7180 - accuracy: 0.7269 - val_loss: 1.0325 - val_accuracy: 0.6509\n"
     ]
    }
   ],
   "source": [
    "history = model.fit(\n",
    "  train_ds_pref,\n",
    "  validation_data=val_ds_pref,\n",
    "  epochs=epochs,\n",
    "  callbacks=[model_checkpoint_callback]\n",
    ")"
   ]
  },
  {
   "cell_type": "code",
   "execution_count": 15,
   "metadata": {},
   "outputs": [],
   "source": [
    "from tensorflow.keras.models import load_model"
   ]
  },
  {
   "cell_type": "code",
   "execution_count": 16,
   "metadata": {},
   "outputs": [
    {
     "name": "stderr",
     "output_type": "stream",
     "text": [
      "c:\\Users\\emiel\\anaconda3\\envs\\newbase\\Lib\\site-packages\\keras\\src\\engine\\training.py:3000: UserWarning: You are saving your model as an HDF5 file via `model.save()`. This file format is considered legacy. We recommend using instead the native Keras format, e.g. `model.save('my_model.keras')`.\n",
      "  saving_api.save_model(\n"
     ]
    }
   ],
   "source": [
    "model.save(os.path.join('..', 'models','trained-rescaled_data.h5'))"
   ]
  },
  {
   "cell_type": "code",
   "execution_count": 17,
   "metadata": {},
   "outputs": [],
   "source": [
    "def plot_results(history):\n",
    "    acc = history.history['accuracy']\n",
    "    val_acc = history.history['val_accuracy']\n",
    "\n",
    "    loss = history.history['loss']\n",
    "    val_loss = history.history['val_loss']\n",
    "\n",
    "    epochs_range = range(epochs)\n",
    "\n",
    "    plt.figure(figsize=(8, 8))\n",
    "    plt.subplot(1, 2, 1)\n",
    "    plt.plot(epochs_range, acc, label='Training Accuracy')\n",
    "    plt.plot(epochs_range, val_acc, label='Validation Accuracy')\n",
    "    plt.legend(loc='lower right')\n",
    "    plt.title('Training and Validation Accuracy')\n",
    "\n",
    "    plt.subplot(1, 2, 2)\n",
    "    plt.plot(epochs_range, loss, label='Training Loss')\n",
    "    plt.plot(epochs_range, val_loss, label='Validation Loss')\n",
    "    plt.legend(loc='upper right')\n",
    "    plt.title('Training and Validation Loss')\n",
    "    plt.show()"
   ]
  },
  {
   "cell_type": "code",
   "execution_count": 18,
   "metadata": {},
   "outputs": [
    {
     "data": {
      "image/png": "[encoded data removed]",
      "text/plain": [
       "<Figure size 800x800 with 2 Axes>"
      ]
     },
     "metadata": {},
     "output_type": "display_data"
    }
   ],
   "source": [
    "# plot the training results\n",
    "plot_results(history)"
   ]
  }
 ],
 "metadata": {
  "kernelspec": {
   "display_name": "newbase",
   "language": "python",
   "name": "python3"
  },
  "language_info": {
   "codemirror_mode": {
    "name": "ipython",
    "version": 3
   },
   "file_extension": ".py",
   "mimetype": "text/x-python",
   "name": "python",
   "nbconvert_exporter": "python",
   "pygments_lexer": "ipython3",
   "version": "3.11.4"
  },
  "orig_nbformat": 4
 },
 "nbformat": 4,
 "nbformat_minor": 2
}
