{
 "cells": [
  {
   "cell_type": "markdown",
   "metadata": {},
   "source": [
    "# Preprocessing: segmentation of cars within the dataset\n",
    "Here, we will go through our dataset of car images and use Ultralytics' YOLO to detect the cars using image segmentation and cut them out of the pictures. This will act as a way of 'cleaning' our data and reduce the noise of the input of our network later on."
   ]
  },
  {
   "cell_type": "code",
   "execution_count": 1,
   "metadata": {},
   "outputs": [],
   "source": [
    "# import dependencies\n",
    "from ultralytics import YOLO\n",
    "import cv2\n",
    "import numpy as np\n",
    "import os\n",
    "import sys"
   ]
  },
  {
   "cell_type": "code",
   "execution_count": 2,
   "metadata": {},
   "outputs": [],
   "source": [
    "# import segmentation functions\n",
    "sys.path.append(os.path.join('..', 'src'))\n",
    "from car_segmentation import *"
   ]
  },
  {
   "cell_type": "code",
   "execution_count": 3,
   "metadata": {},
   "outputs": [],
   "source": [
    "# define folders\n",
    "dir_segmentedcars = os.path.join('..', 'Data','segmented_cars')\n",
    "dir_carsoriginal = os.path.join('..', 'Data', 'Cars')"
   ]
  },
  {
   "cell_type": "code",
   "execution_count": 6,
   "metadata": {},
   "outputs": [
    {
     "name": "stderr",
     "output_type": "stream",
     "text": [
      "Downloading https://github.com/ultralytics/assets/releases/download/v0.0.0/yolov8n-seg.pt to 'YOLO_models\\yolov8n-seg.pt'...\n",
      "100%|██████████| 6.73M/6.73M [00:00<00:00, 10.8MB/s]\n",
      "\n",
      "image 1/1 c:\\Users\\emiel\\OneDrive\\Personal projects\\Machine Learning\\car-recognition-ML\\notebooks\\..\\Data\\Cars\\Audi\\01-2017-audi-a4-sd.jpg: 384x640 1 car, 138.0ms\n",
      "Speed: 1.0ms preprocess, 138.0ms inference, 4.5ms postprocess per image at shape (1, 3, 384, 640)\n",
      "WARNING  'Masks.masks' is deprecated. Use 'Masks.data' instead.\n"
     ]
    },
    {
     "name": "stdout",
     "output_type": "stream",
     "text": [
      "01-2017-audi-a4-sd.jpg segmented and saved to ..\\Data\\segmented_cars\\Audi\n"
     ]
    },
    {
     "name": "stderr",
     "output_type": "stream",
     "text": [
      "\n",
      "image 1/1 c:\\Users\\emiel\\OneDrive\\Personal projects\\Machine Learning\\car-recognition-ML\\notebooks\\..\\Data\\Cars\\Audi\\01.jpg: 448x640 1 car, 147.5ms\n",
      "Speed: 5.0ms preprocess, 147.5ms inference, 5.0ms postprocess per image at shape (1, 3, 448, 640)\n",
      "WARNING  'Masks.masks' is deprecated. Use 'Masks.data' instead.\n"
     ]
    },
    {
     "name": "stdout",
     "output_type": "stream",
     "text": [
      "01.jpg segmented and saved to ..\\Data\\segmented_cars\\Audi\n"
     ]
    },
    {
     "name": "stderr",
     "output_type": "stream",
     "text": [
      "\n",
      "image 1/1 c:\\Users\\emiel\\OneDrive\\Personal projects\\Machine Learning\\car-recognition-ML\\notebooks\\..\\Data\\Cars\\Audi\\0102_MTRP_03_o_FTAD-C2.jpg: 320x640 1 car, 105.0ms\n",
      "Speed: 16.0ms preprocess, 105.0ms inference, 2.0ms postprocess per image at shape (1, 3, 320, 640)\n",
      "WARNING  'Masks.masks' is deprecated. Use 'Masks.data' instead.\n"
     ]
    },
    {
     "name": "stdout",
     "output_type": "stream",
     "text": [
      "0102_MTRP_03_o_FTAD-C2.jpg segmented and saved to ..\\Data\\segmented_cars\\Audi\n"
     ]
    },
    {
     "name": "stderr",
     "output_type": "stream",
     "text": [
      "\n",
      "image 1/1 c:\\Users\\emiel\\OneDrive\\Personal projects\\Machine Learning\\car-recognition-ML\\notebooks\\..\\Data\\Cars\\Audi\\027308_2012_Audi_A4.jpg: 416x640 1 car, 133.0ms\n",
      "Speed: 2.0ms preprocess, 133.0ms inference, 3.0ms postprocess per image at shape (1, 3, 416, 640)\n",
      "WARNING  'Masks.masks' is deprecated. Use 'Masks.data' instead.\n"
     ]
    },
    {
     "name": "stdout",
     "output_type": "stream",
     "text": [
      "027308_2012_Audi_A4.jpg segmented and saved to ..\\Data\\segmented_cars\\Audi\n"
     ]
    },
    {
     "name": "stderr",
     "output_type": "stream",
     "text": [
      "\n",
      "image 1/1 c:\\Users\\emiel\\OneDrive\\Personal projects\\Machine Learning\\car-recognition-ML\\notebooks\\..\\Data\\Cars\\Audi\\02audia4.jpg: 384x640 2 trucks, 100.0ms\n",
      "Speed: 1.0ms preprocess, 100.0ms inference, 3.0ms postprocess per image at shape (1, 3, 384, 640)\n",
      "WARNING  'Masks.masks' is deprecated. Use 'Masks.data' instead.\n"
     ]
    },
    {
     "name": "stdout",
     "output_type": "stream",
     "text": [
      "02audia4.jpg segmented and saved to ..\\Data\\segmented_cars\\Audi\n"
     ]
    },
    {
     "name": "stderr",
     "output_type": "stream",
     "text": [
      "\n",
      "image 1/1 c:\\Users\\emiel\\OneDrive\\Personal projects\\Machine Learning\\car-recognition-ML\\notebooks\\..\\Data\\Cars\\Audi\\02audia8.jpg: 416x640 1 car, 112.6ms\n",
      "Speed: 2.2ms preprocess, 112.6ms inference, 3.0ms postprocess per image at shape (1, 3, 416, 640)\n",
      "WARNING  'Masks.masks' is deprecated. Use 'Masks.data' instead.\n"
     ]
    },
    {
     "name": "stdout",
     "output_type": "stream",
     "text": [
      "02audia8.jpg segmented and saved to ..\\Data\\segmented_cars\\Audi\n"
     ]
    },
    {
     "name": "stderr",
     "output_type": "stream",
     "text": [
      "\n",
      "image 1/1 c:\\Users\\emiel\\OneDrive\\Personal projects\\Machine Learning\\car-recognition-ML\\notebooks\\..\\Data\\Cars\\Audi\\041b3ea5-5595-4d55-80f0-c2c7b81f0c08.png: 448x640 1 car, 119.8ms\n",
      "Speed: 2.0ms preprocess, 119.8ms inference, 3.0ms postprocess per image at shape (1, 3, 448, 640)\n",
      "WARNING  'Masks.masks' is deprecated. Use 'Masks.data' instead.\n"
     ]
    },
    {
     "name": "stdout",
     "output_type": "stream",
     "text": [
      "041b3ea5-5595-4d55-80f0-c2c7b81f0c08.png segmented and saved to ..\\Data\\segmented_cars\\Audi\n"
     ]
    },
    {
     "name": "stderr",
     "output_type": "stream",
     "text": [
      "\n",
      "image 1/1 c:\\Users\\emiel\\OneDrive\\Personal projects\\Machine Learning\\car-recognition-ML\\notebooks\\..\\Data\\Cars\\Audi\\066626_Audi_Q3_2012_Une_commercialisation_en_accelere.jpg: 416x640 1 car, 116.1ms\n",
      "Speed: 2.0ms preprocess, 116.1ms inference, 3.0ms postprocess per image at shape (1, 3, 416, 640)\n",
      "WARNING  'Masks.masks' is deprecated. Use 'Masks.data' instead.\n"
     ]
    },
    {
     "name": "stdout",
     "output_type": "stream",
     "text": [
      "066626_Audi_Q3_2012_Une_commercialisation_en_accelere.jpg segmented and saved to ..\\Data\\segmented_cars\\Audi\n"
     ]
    },
    {
     "name": "stderr",
     "output_type": "stream",
     "text": [
      "\n",
      "image 1/1 c:\\Users\\emiel\\OneDrive\\Personal projects\\Machine Learning\\car-recognition-ML\\notebooks\\..\\Data\\Cars\\Audi\\07-s8.jpg: 320x640 1 car, 92.7ms\n",
      "Speed: 1.0ms preprocess, 92.7ms inference, 2.0ms postprocess per image at shape (1, 3, 320, 640)\n",
      "WARNING  'Masks.masks' is deprecated. Use 'Masks.data' instead.\n"
     ]
    },
    {
     "name": "stdout",
     "output_type": "stream",
     "text": [
      "07-s8.jpg segmented and saved to ..\\Data\\segmented_cars\\Audi\n"
     ]
    },
    {
     "name": "stderr",
     "output_type": "stream",
     "text": [
      "\n",
      "image 1/1 c:\\Users\\emiel\\OneDrive\\Personal projects\\Machine Learning\\car-recognition-ML\\notebooks\\..\\Data\\Cars\\Audi\\07e0d938-97c2-4829-b115-cb2aa0879744.png: 448x640 1 car, 123.5ms\n",
      "Speed: 3.0ms preprocess, 123.5ms inference, 3.0ms postprocess per image at shape (1, 3, 448, 640)\n",
      "WARNING  'Masks.masks' is deprecated. Use 'Masks.data' instead.\n"
     ]
    },
    {
     "name": "stdout",
     "output_type": "stream",
     "text": [
      "07e0d938-97c2-4829-b115-cb2aa0879744.png segmented and saved to ..\\Data\\segmented_cars\\Audi\n"
     ]
    },
    {
     "name": "stderr",
     "output_type": "stream",
     "text": [
      "\n",
      "image 1/1 c:\\Users\\emiel\\OneDrive\\Personal projects\\Machine Learning\\car-recognition-ML\\notebooks\\..\\Data\\Cars\\Audi\\0a498eeaea4a28fb5dee29e050264fef.jpg: 480x640 1 car, 152.6ms\n",
      "Speed: 3.0ms preprocess, 152.6ms inference, 5.0ms postprocess per image at shape (1, 3, 480, 640)\n",
      "WARNING  'Masks.masks' is deprecated. Use 'Masks.data' instead.\n"
     ]
    },
    {
     "name": "stdout",
     "output_type": "stream",
     "text": [
      "0a498eeaea4a28fb5dee29e050264fef.jpg segmented and saved to ..\\Data\\segmented_cars\\Audi\n"
     ]
    },
    {
     "name": "stderr",
     "output_type": "stream",
     "text": [
      "\n",
      "image 1/1 c:\\Users\\emiel\\OneDrive\\Personal projects\\Machine Learning\\car-recognition-ML\\notebooks\\..\\Data\\Cars\\Audi\\1 2.jpg: 448x640 2 cars, 116.4ms\n",
      "Speed: 2.0ms preprocess, 116.4ms inference, 10.1ms postprocess per image at shape (1, 3, 448, 640)\n",
      "WARNING  'Masks.masks' is deprecated. Use 'Masks.data' instead.\n"
     ]
    },
    {
     "name": "stdout",
     "output_type": "stream",
     "text": [
      "1 2.jpg segmented and saved to ..\\Data\\segmented_cars\\Audi\n"
     ]
    },
    {
     "ename": "KeyboardInterrupt",
     "evalue": "",
     "output_type": "error",
     "traceback": [
      "\u001b[1;31m---------------------------------------------------------------------------\u001b[0m",
      "\u001b[1;31mKeyboardInterrupt\u001b[0m                         Traceback (most recent call last)",
      "Cell \u001b[1;32mIn[6], line 7\u001b[0m\n\u001b[0;32m      4\u001b[0m dir_brand_segm \u001b[39m=\u001b[39m os\u001b[39m.\u001b[39mpath\u001b[39m.\u001b[39mjoin(dir_segmentedcars, car_brand)\n\u001b[0;32m      5\u001b[0m \u001b[39mfor\u001b[39;00m image \u001b[39min\u001b[39;00m os\u001b[39m.\u001b[39mlistdir(dir_brand_orig):\n\u001b[0;32m      6\u001b[0m     \u001b[39m# segment the image and save\u001b[39;00m\n\u001b[1;32m----> 7\u001b[0m     save_segmented_image(os\u001b[39m.\u001b[39;49mpath\u001b[39m.\u001b[39;49mjoin(dir_brand_orig, image), dir_brand_segm)\n\u001b[0;32m      8\u001b[0m     \u001b[39mprint\u001b[39m(\u001b[39mf\u001b[39m\u001b[39m'\u001b[39m\u001b[39m{\u001b[39;00mimage\u001b[39m}\u001b[39;00m\u001b[39m segmented and saved to \u001b[39m\u001b[39m{\u001b[39;00mdir_brand_segm\u001b[39m}\u001b[39;00m\u001b[39m'\u001b[39m)\n",
      "File \u001b[1;32mc:\\Users\\emiel\\OneDrive\\Personal projects\\Machine Learning\\car-recognition-ML\\notebooks\\..\\src\\car_segmentation.py:41\u001b[0m, in \u001b[0;36msave_segmented_image\u001b[1;34m(imgpath_orig, segm_folder)\u001b[0m\n\u001b[0;32m     38\u001b[0m imgpath_orig = os.path.join(orig_folder, '.'.join((imgname, fileextension)))\n\u001b[0;32m     39\u001b[0m imgpath_segm = os.path.join(segm_folder, '.'.join((imgname + '_segm', fileextension)))\n\u001b[1;32m---> 41\u001b[0m # perform segmentation\n\u001b[0;32m     42\u001b[0m segmented_img = get_segmented_image(imgpath_orig)\n\u001b[0;32m     44\u001b[0m # save segmented image\n\u001b[0;32m     45\u001b[0m # first check if we even have a segmented image.\n",
      "File \u001b[1;32mc:\\Users\\emiel\\OneDrive\\Personal projects\\Machine Learning\\car-recognition-ML\\notebooks\\..\\src\\car_segmentation.py:12\u001b[0m, in \u001b[0;36mget_segmented_image\u001b[1;34m(imgpath)\u001b[0m\n\u001b[0;32m      9\u001b[0m segmentation_model \u001b[39m=\u001b[39m YOLO(os\u001b[39m.\u001b[39mpath\u001b[39m.\u001b[39mjoin(\u001b[39m'\u001b[39m\u001b[39m..\u001b[39m\u001b[39m'\u001b[39m, \u001b[39m'\u001b[39m\u001b[39msrc\u001b[39m\u001b[39m'\u001b[39m, \u001b[39m'\u001b[39m\u001b[39mYOLO_models\u001b[39m\u001b[39m'\u001b[39m, \u001b[39m'\u001b[39m\u001b[39myolov8n-seg.pt\u001b[39m\u001b[39m'\u001b[39m))\n\u001b[0;32m     11\u001b[0m \u001b[39m# perform the segmentation on the image\u001b[39;00m\n\u001b[1;32m---> 12\u001b[0m results \u001b[39m=\u001b[39m segmentation_model\u001b[39m.\u001b[39;49mpredict(imgpath, retina_masks\u001b[39m=\u001b[39;49m\u001b[39mTrue\u001b[39;49;00m)\n\u001b[0;32m     14\u001b[0m \u001b[39m# get only the segmentation-highlighted objects from the image using the obtained masks\u001b[39;00m\n\u001b[0;32m     15\u001b[0m \u001b[39m# from https://github.com/ultralytics/ultralytics/issues/1411\u001b[39;00m\n\u001b[0;32m     16\u001b[0m segmented_img \u001b[39m=\u001b[39m \u001b[39mNone\u001b[39;00m\n",
      "File \u001b[1;32mc:\\Users\\emiel\\anaconda3\\envs\\newbase\\Lib\\site-packages\\torch\\utils\\_contextlib.py:115\u001b[0m, in \u001b[0;36mcontext_decorator.<locals>.decorate_context\u001b[1;34m(*args, **kwargs)\u001b[0m\n\u001b[0;32m    112\u001b[0m \u001b[39m@functools\u001b[39m\u001b[39m.\u001b[39mwraps(func)\n\u001b[0;32m    113\u001b[0m \u001b[39mdef\u001b[39;00m \u001b[39mdecorate_context\u001b[39m(\u001b[39m*\u001b[39margs, \u001b[39m*\u001b[39m\u001b[39m*\u001b[39mkwargs):\n\u001b[0;32m    114\u001b[0m     \u001b[39mwith\u001b[39;00m ctx_factory():\n\u001b[1;32m--> 115\u001b[0m         \u001b[39mreturn\u001b[39;00m func(\u001b[39m*\u001b[39;49margs, \u001b[39m*\u001b[39;49m\u001b[39m*\u001b[39;49mkwargs)\n",
      "File \u001b[1;32mc:\\Users\\emiel\\anaconda3\\envs\\newbase\\Lib\\site-packages\\ultralytics\\engine\\model.py:238\u001b[0m, in \u001b[0;36mModel.predict\u001b[1;34m(self, source, stream, predictor, **kwargs)\u001b[0m\n\u001b[0;32m    236\u001b[0m     predictor \u001b[39m=\u001b[39m predictor \u001b[39mor\u001b[39;00m \u001b[39mself\u001b[39m\u001b[39m.\u001b[39msmart_load(\u001b[39m'\u001b[39m\u001b[39mpredictor\u001b[39m\u001b[39m'\u001b[39m)\n\u001b[0;32m    237\u001b[0m     \u001b[39mself\u001b[39m\u001b[39m.\u001b[39mpredictor \u001b[39m=\u001b[39m predictor(overrides\u001b[39m=\u001b[39moverrides, _callbacks\u001b[39m=\u001b[39m\u001b[39mself\u001b[39m\u001b[39m.\u001b[39mcallbacks)\n\u001b[1;32m--> 238\u001b[0m     \u001b[39mself\u001b[39;49m\u001b[39m.\u001b[39;49mpredictor\u001b[39m.\u001b[39;49msetup_model(model\u001b[39m=\u001b[39;49m\u001b[39mself\u001b[39;49m\u001b[39m.\u001b[39;49mmodel, verbose\u001b[39m=\u001b[39;49mis_cli)\n\u001b[0;32m    239\u001b[0m \u001b[39melse\u001b[39;00m:  \u001b[39m# only update args if predictor is already setup\u001b[39;00m\n\u001b[0;32m    240\u001b[0m     \u001b[39mself\u001b[39m\u001b[39m.\u001b[39mpredictor\u001b[39m.\u001b[39margs \u001b[39m=\u001b[39m get_cfg(\u001b[39mself\u001b[39m\u001b[39m.\u001b[39mpredictor\u001b[39m.\u001b[39margs, overrides)\n",
      "File \u001b[1;32mc:\\Users\\emiel\\anaconda3\\envs\\newbase\\Lib\\site-packages\\ultralytics\\engine\\predictor.py:306\u001b[0m, in \u001b[0;36mBasePredictor.setup_model\u001b[1;34m(self, model, verbose)\u001b[0m\n\u001b[0;32m    303\u001b[0m \u001b[39mdef\u001b[39;00m \u001b[39msetup_model\u001b[39m(\u001b[39mself\u001b[39m, model, verbose\u001b[39m=\u001b[39m\u001b[39mTrue\u001b[39;00m):\n\u001b[0;32m    304\u001b[0m \u001b[39m    \u001b[39m\u001b[39m\"\"\"Initialize YOLO model with given parameters and set it to evaluation mode.\"\"\"\u001b[39;00m\n\u001b[0;32m    305\u001b[0m     \u001b[39mself\u001b[39m\u001b[39m.\u001b[39mmodel \u001b[39m=\u001b[39m AutoBackend(model \u001b[39mor\u001b[39;00m \u001b[39mself\u001b[39m\u001b[39m.\u001b[39margs\u001b[39m.\u001b[39mmodel,\n\u001b[1;32m--> 306\u001b[0m                              device\u001b[39m=\u001b[39mselect_device(\u001b[39mself\u001b[39;49m\u001b[39m.\u001b[39;49margs\u001b[39m.\u001b[39;49mdevice, verbose\u001b[39m=\u001b[39;49mverbose),\n\u001b[0;32m    307\u001b[0m                              dnn\u001b[39m=\u001b[39m\u001b[39mself\u001b[39m\u001b[39m.\u001b[39margs\u001b[39m.\u001b[39mdnn,\n\u001b[0;32m    308\u001b[0m                              data\u001b[39m=\u001b[39m\u001b[39mself\u001b[39m\u001b[39m.\u001b[39margs\u001b[39m.\u001b[39mdata,\n\u001b[0;32m    309\u001b[0m                              fp16\u001b[39m=\u001b[39m\u001b[39mself\u001b[39m\u001b[39m.\u001b[39margs\u001b[39m.\u001b[39mhalf,\n\u001b[0;32m    310\u001b[0m                              fuse\u001b[39m=\u001b[39m\u001b[39mTrue\u001b[39;00m,\n\u001b[0;32m    311\u001b[0m                              verbose\u001b[39m=\u001b[39mverbose)\n\u001b[0;32m    313\u001b[0m     \u001b[39mself\u001b[39m\u001b[39m.\u001b[39mdevice \u001b[39m=\u001b[39m \u001b[39mself\u001b[39m\u001b[39m.\u001b[39mmodel\u001b[39m.\u001b[39mdevice  \u001b[39m# update device\u001b[39;00m\n\u001b[0;32m    314\u001b[0m     \u001b[39mself\u001b[39m\u001b[39m.\u001b[39margs\u001b[39m.\u001b[39mhalf \u001b[39m=\u001b[39m \u001b[39mself\u001b[39m\u001b[39m.\u001b[39mmodel\u001b[39m.\u001b[39mfp16  \u001b[39m# update half\u001b[39;00m\n",
      "File \u001b[1;32mc:\\Users\\emiel\\anaconda3\\envs\\newbase\\Lib\\site-packages\\ultralytics\\utils\\torch_utils.py:109\u001b[0m, in \u001b[0;36mselect_device\u001b[1;34m(device, batch, newline, verbose)\u001b[0m\n\u001b[0;32m    107\u001b[0m     arg \u001b[39m=\u001b[39m \u001b[39m'\u001b[39m\u001b[39mmps\u001b[39m\u001b[39m'\u001b[39m\n\u001b[0;32m    108\u001b[0m \u001b[39melse\u001b[39;00m:  \u001b[39m# revert to CPU\u001b[39;00m\n\u001b[1;32m--> 109\u001b[0m     s \u001b[39m+\u001b[39m\u001b[39m=\u001b[39m \u001b[39mf\u001b[39m\u001b[39m'\u001b[39m\u001b[39mCPU (\u001b[39m\u001b[39m{\u001b[39;00mget_cpu_info()\u001b[39m}\u001b[39;00m\u001b[39m)\u001b[39m\u001b[39m\\n\u001b[39;00m\u001b[39m'\u001b[39m\n\u001b[0;32m    110\u001b[0m     arg \u001b[39m=\u001b[39m \u001b[39m'\u001b[39m\u001b[39mcpu\u001b[39m\u001b[39m'\u001b[39m\n\u001b[0;32m    112\u001b[0m \u001b[39mif\u001b[39;00m verbose \u001b[39mand\u001b[39;00m RANK \u001b[39m==\u001b[39m \u001b[39m-\u001b[39m\u001b[39m1\u001b[39m:\n",
      "File \u001b[1;32mc:\\Users\\emiel\\anaconda3\\envs\\newbase\\Lib\\site-packages\\ultralytics\\utils\\torch_utils.py:61\u001b[0m, in \u001b[0;36mget_cpu_info\u001b[1;34m()\u001b[0m\n\u001b[0;32m     58\u001b[0m \u001b[39mimport\u001b[39;00m \u001b[39mcpuinfo\u001b[39;00m  \u001b[39m# pip install py-cpuinfo\u001b[39;00m\n\u001b[0;32m     60\u001b[0m k \u001b[39m=\u001b[39m \u001b[39m'\u001b[39m\u001b[39mbrand_raw\u001b[39m\u001b[39m'\u001b[39m, \u001b[39m'\u001b[39m\u001b[39mhardware_raw\u001b[39m\u001b[39m'\u001b[39m, \u001b[39m'\u001b[39m\u001b[39march_string_raw\u001b[39m\u001b[39m'\u001b[39m  \u001b[39m# info keys sorted by preference (not all keys always available)\u001b[39;00m\n\u001b[1;32m---> 61\u001b[0m info \u001b[39m=\u001b[39m cpuinfo\u001b[39m.\u001b[39;49mget_cpu_info()  \u001b[39m# info dict\u001b[39;00m\n\u001b[0;32m     62\u001b[0m string \u001b[39m=\u001b[39m info\u001b[39m.\u001b[39mget(k[\u001b[39m0\u001b[39m] \u001b[39mif\u001b[39;00m k[\u001b[39m0\u001b[39m] \u001b[39min\u001b[39;00m info \u001b[39melse\u001b[39;00m k[\u001b[39m1\u001b[39m] \u001b[39mif\u001b[39;00m k[\u001b[39m1\u001b[39m] \u001b[39min\u001b[39;00m info \u001b[39melse\u001b[39;00m k[\u001b[39m2\u001b[39m], \u001b[39m'\u001b[39m\u001b[39munknown\u001b[39m\u001b[39m'\u001b[39m)\n\u001b[0;32m     63\u001b[0m \u001b[39mreturn\u001b[39;00m string\u001b[39m.\u001b[39mreplace(\u001b[39m'\u001b[39m\u001b[39m(R)\u001b[39m\u001b[39m'\u001b[39m, \u001b[39m'\u001b[39m\u001b[39m'\u001b[39m)\u001b[39m.\u001b[39mreplace(\u001b[39m'\u001b[39m\u001b[39mCPU \u001b[39m\u001b[39m'\u001b[39m, \u001b[39m'\u001b[39m\u001b[39m'\u001b[39m)\u001b[39m.\u001b[39mreplace(\u001b[39m'\u001b[39m\u001b[39m@ \u001b[39m\u001b[39m'\u001b[39m, \u001b[39m'\u001b[39m\u001b[39m'\u001b[39m)\n",
      "File \u001b[1;32mc:\\Users\\emiel\\anaconda3\\envs\\newbase\\Lib\\site-packages\\cpuinfo\\cpuinfo.py:2759\u001b[0m, in \u001b[0;36mget_cpu_info\u001b[1;34m()\u001b[0m\n\u001b[0;32m   2752\u001b[0m \u001b[39m\u001b[39m\u001b[39m'''\u001b[39;00m\n\u001b[0;32m   2753\u001b[0m \u001b[39mReturns the CPU info by using the best sources of information for your OS.\u001b[39;00m\n\u001b[0;32m   2754\u001b[0m \u001b[39mReturns the result in a dict\u001b[39;00m\n\u001b[0;32m   2755\u001b[0m \u001b[39m'''\u001b[39;00m\n\u001b[0;32m   2757\u001b[0m \u001b[39mimport\u001b[39;00m \u001b[39mjson\u001b[39;00m\n\u001b[1;32m-> 2759\u001b[0m output \u001b[39m=\u001b[39m get_cpu_info_json()\n\u001b[0;32m   2761\u001b[0m \u001b[39m# Convert JSON to Python with non unicode strings\u001b[39;00m\n\u001b[0;32m   2762\u001b[0m output \u001b[39m=\u001b[39m json\u001b[39m.\u001b[39mloads(output, object_hook \u001b[39m=\u001b[39m _utf_to_str)\n",
      "File \u001b[1;32mc:\\Users\\emiel\\anaconda3\\envs\\newbase\\Lib\\site-packages\\cpuinfo\\cpuinfo.py:2742\u001b[0m, in \u001b[0;36mget_cpu_info_json\u001b[1;34m()\u001b[0m\n\u001b[0;32m   2740\u001b[0m command \u001b[39m=\u001b[39m [sys\u001b[39m.\u001b[39mexecutable, \u001b[39m__file__\u001b[39m, \u001b[39m'\u001b[39m\u001b[39m--json\u001b[39m\u001b[39m'\u001b[39m]\n\u001b[0;32m   2741\u001b[0m p1 \u001b[39m=\u001b[39m Popen(command, stdout\u001b[39m=\u001b[39mPIPE, stderr\u001b[39m=\u001b[39mPIPE, stdin\u001b[39m=\u001b[39mPIPE)\n\u001b[1;32m-> 2742\u001b[0m output \u001b[39m=\u001b[39m p1\u001b[39m.\u001b[39;49mcommunicate()[\u001b[39m0\u001b[39m]\n\u001b[0;32m   2744\u001b[0m \u001b[39mif\u001b[39;00m p1\u001b[39m.\u001b[39mreturncode \u001b[39m!=\u001b[39m \u001b[39m0\u001b[39m:\n\u001b[0;32m   2745\u001b[0m \t\u001b[39mreturn\u001b[39;00m \u001b[39m\"\u001b[39m\u001b[39m{}\u001b[39;00m\u001b[39m\"\u001b[39m\n",
      "File \u001b[1;32mc:\\Users\\emiel\\anaconda3\\envs\\newbase\\Lib\\subprocess.py:1209\u001b[0m, in \u001b[0;36mPopen.communicate\u001b[1;34m(self, input, timeout)\u001b[0m\n\u001b[0;32m   1206\u001b[0m     endtime \u001b[39m=\u001b[39m \u001b[39mNone\u001b[39;00m\n\u001b[0;32m   1208\u001b[0m \u001b[39mtry\u001b[39;00m:\n\u001b[1;32m-> 1209\u001b[0m     stdout, stderr \u001b[39m=\u001b[39m \u001b[39mself\u001b[39;49m\u001b[39m.\u001b[39;49m_communicate(\u001b[39minput\u001b[39;49m, endtime, timeout)\n\u001b[0;32m   1210\u001b[0m \u001b[39mexcept\u001b[39;00m \u001b[39mKeyboardInterrupt\u001b[39;00m:\n\u001b[0;32m   1211\u001b[0m     \u001b[39m# https://bugs.python.org/issue25942\u001b[39;00m\n\u001b[0;32m   1212\u001b[0m     \u001b[39m# See the detailed comment in .wait().\u001b[39;00m\n\u001b[0;32m   1213\u001b[0m     \u001b[39mif\u001b[39;00m timeout \u001b[39mis\u001b[39;00m \u001b[39mnot\u001b[39;00m \u001b[39mNone\u001b[39;00m:\n",
      "File \u001b[1;32mc:\\Users\\emiel\\anaconda3\\envs\\newbase\\Lib\\subprocess.py:1626\u001b[0m, in \u001b[0;36mPopen._communicate\u001b[1;34m(self, input, endtime, orig_timeout)\u001b[0m\n\u001b[0;32m   1622\u001b[0m \u001b[39m# Wait for the reader threads, or time out.  If we time out, the\u001b[39;00m\n\u001b[0;32m   1623\u001b[0m \u001b[39m# threads remain reading and the fds left open in case the user\u001b[39;00m\n\u001b[0;32m   1624\u001b[0m \u001b[39m# calls communicate again.\u001b[39;00m\n\u001b[0;32m   1625\u001b[0m \u001b[39mif\u001b[39;00m \u001b[39mself\u001b[39m\u001b[39m.\u001b[39mstdout \u001b[39mis\u001b[39;00m \u001b[39mnot\u001b[39;00m \u001b[39mNone\u001b[39;00m:\n\u001b[1;32m-> 1626\u001b[0m     \u001b[39mself\u001b[39;49m\u001b[39m.\u001b[39;49mstdout_thread\u001b[39m.\u001b[39;49mjoin(\u001b[39mself\u001b[39;49m\u001b[39m.\u001b[39;49m_remaining_time(endtime))\n\u001b[0;32m   1627\u001b[0m     \u001b[39mif\u001b[39;00m \u001b[39mself\u001b[39m\u001b[39m.\u001b[39mstdout_thread\u001b[39m.\u001b[39mis_alive():\n\u001b[0;32m   1628\u001b[0m         \u001b[39mraise\u001b[39;00m TimeoutExpired(\u001b[39mself\u001b[39m\u001b[39m.\u001b[39margs, orig_timeout)\n",
      "File \u001b[1;32mc:\\Users\\emiel\\anaconda3\\envs\\newbase\\Lib\\threading.py:1112\u001b[0m, in \u001b[0;36mThread.join\u001b[1;34m(self, timeout)\u001b[0m\n\u001b[0;32m   1109\u001b[0m     \u001b[39mraise\u001b[39;00m \u001b[39mRuntimeError\u001b[39;00m(\u001b[39m\"\u001b[39m\u001b[39mcannot join current thread\u001b[39m\u001b[39m\"\u001b[39m)\n\u001b[0;32m   1111\u001b[0m \u001b[39mif\u001b[39;00m timeout \u001b[39mis\u001b[39;00m \u001b[39mNone\u001b[39;00m:\n\u001b[1;32m-> 1112\u001b[0m     \u001b[39mself\u001b[39;49m\u001b[39m.\u001b[39;49m_wait_for_tstate_lock()\n\u001b[0;32m   1113\u001b[0m \u001b[39melse\u001b[39;00m:\n\u001b[0;32m   1114\u001b[0m     \u001b[39m# the behavior of a negative timeout isn't documented, but\u001b[39;00m\n\u001b[0;32m   1115\u001b[0m     \u001b[39m# historically .join(timeout=x) for x<0 has acted as if timeout=0\u001b[39;00m\n\u001b[0;32m   1116\u001b[0m     \u001b[39mself\u001b[39m\u001b[39m.\u001b[39m_wait_for_tstate_lock(timeout\u001b[39m=\u001b[39m\u001b[39mmax\u001b[39m(timeout, \u001b[39m0\u001b[39m))\n",
      "File \u001b[1;32mc:\\Users\\emiel\\anaconda3\\envs\\newbase\\Lib\\threading.py:1132\u001b[0m, in \u001b[0;36mThread._wait_for_tstate_lock\u001b[1;34m(self, block, timeout)\u001b[0m\n\u001b[0;32m   1129\u001b[0m     \u001b[39mreturn\u001b[39;00m\n\u001b[0;32m   1131\u001b[0m \u001b[39mtry\u001b[39;00m:\n\u001b[1;32m-> 1132\u001b[0m     \u001b[39mif\u001b[39;00m lock\u001b[39m.\u001b[39;49macquire(block, timeout):\n\u001b[0;32m   1133\u001b[0m         lock\u001b[39m.\u001b[39mrelease()\n\u001b[0;32m   1134\u001b[0m         \u001b[39mself\u001b[39m\u001b[39m.\u001b[39m_stop()\n",
      "\u001b[1;31mKeyboardInterrupt\u001b[0m: "
     ]
    }
   ],
   "source": [
    "# go through data folder and get segmented versions\n",
    "for car_brand in os.listdir(dir_carsoriginal):\n",
    "    dir_brand_orig = os.path.join(dir_carsoriginal, car_brand)\n",
    "    dir_brand_segm = os.path.join(dir_segmentedcars, car_brand)\n",
    "    for image in os.listdir(dir_brand_orig):\n",
    "        # segment the image and save\n",
    "        save_segmented_image(os.path.join(dir_brand_orig, image), dir_brand_segm)\n",
    "        print(f'{image} segmented and saved to {dir_brand_segm}')"
   ]
  }
 ],
 "metadata": {
  "kernelspec": {
   "display_name": "newbase",
   "language": "python",
   "name": "python3"
  },
  "language_info": {
   "codemirror_mode": {
    "name": "ipython",
    "version": 3
   },
   "file_extension": ".py",
   "mimetype": "text/x-python",
   "name": "python",
   "nbconvert_exporter": "python",
   "pygments_lexer": "ipython3",
   "version": "3.11.4"
  },
  "orig_nbformat": 4
 },
 "nbformat": 4,
 "nbformat_minor": 2
}
