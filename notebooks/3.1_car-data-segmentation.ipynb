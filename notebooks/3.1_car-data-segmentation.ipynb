{
 "cells": [
  {
   "cell_type": "markdown",
   "metadata": {},
   "source": [
    "# Preprocessing: segmentation of cars within the dataset\n",
    "Here, we will go through our dataset of car images and use Ultralytics' YOLO to detect the cars using image segmentation and cut them out of the pictures. This will act as a way of 'cleaning' our data and reduce the noise of the input of our network later on."
   ]
  },
  {
   "cell_type": "code",
   "execution_count": 1,
   "metadata": {},
   "outputs": [],
   "source": [
    "# import dependencies\n",
    "from ultralytics import YOLO\n",
    "import cv2\n",
    "import numpy as np\n",
    "import os\n",
    "import sys"
   ]
  },
  {
   "cell_type": "code",
   "execution_count": 2,
   "metadata": {},
   "outputs": [],
   "source": [
    "# import segmentation functions\n",
    "sys.path.append(os.path.join('..', 'src'))\n",
    "from car_segmentation import *"
   ]
  },
  {
   "cell_type": "code",
   "execution_count": 3,
   "metadata": {},
   "outputs": [],
   "source": [
    "# define folders\n",
    "dir_segmentedcars = os.path.join('..', 'Data','segmented_cars')\n",
    "dir_carsoriginal = os.path.join('..', 'Data', 'Cars')"
   ]
  },
  {
   "cell_type": "code",
   "execution_count": 4,
   "metadata": {},
   "outputs": [
    {
     "name": "stderr",
     "output_type": "stream",
     "text": [
      "\n",
      "image 1/1 c:\\Users\\emiel\\OneDrive\\Personal projects\\Machine Learning\\car-recognition-ML\\notebooks\\..\\Data\\Cars\\Audi\\01-2017-audi-a4-sd.jpg: 384x640 1 car, 115.5ms\n",
      "Speed: 2.0ms preprocess, 115.5ms inference, 4.0ms postprocess per image at shape (1, 3, 384, 640)\n",
      "WARNING  'Masks.masks' is deprecated. Use 'Masks.data' instead.\n",
      "\n",
      "image 1/1 c:\\Users\\emiel\\OneDrive\\Personal projects\\Machine Learning\\car-recognition-ML\\notebooks\\..\\Data\\Cars\\Audi\\01.jpg: 448x640 1 car, 128.4ms\n",
      "Speed: 2.0ms preprocess, 128.4ms inference, 5.0ms postprocess per image at shape (1, 3, 448, 640)\n",
      "WARNING  'Masks.masks' is deprecated. Use 'Masks.data' instead.\n",
      "\n"
     ]
    },
    {
     "name": "stdout",
     "output_type": "stream",
     "text": [
      "01-2017-audi-a4-sd.jpg segmented and saved to ..\\Data\\segmented_cars\\Audi\n",
      "01.jpg segmented and saved to ..\\Data\\segmented_cars\\Audi\n"
     ]
    },
    {
     "name": "stderr",
     "output_type": "stream",
     "text": [
      "image 1/1 c:\\Users\\emiel\\OneDrive\\Personal projects\\Machine Learning\\car-recognition-ML\\notebooks\\..\\Data\\Cars\\Audi\\0102_MTRP_03_o_FTAD-C2.jpg: 320x640 1 car, 102.0ms\n",
      "Speed: 1.0ms preprocess, 102.0ms inference, 3.0ms postprocess per image at shape (1, 3, 320, 640)\n",
      "WARNING  'Masks.masks' is deprecated. Use 'Masks.data' instead.\n",
      "\n",
      "image 1/1 c:\\Users\\emiel\\OneDrive\\Personal projects\\Machine Learning\\car-recognition-ML\\notebooks\\..\\Data\\Cars\\Audi\\027308_2012_Audi_A4.jpg: 416x640 1 car, 161.5ms\n",
      "Speed: 2.0ms preprocess, 161.5ms inference, 3.0ms postprocess per image at shape (1, 3, 416, 640)\n",
      "WARNING  'Masks.masks' is deprecated. Use 'Masks.data' instead.\n",
      "\n"
     ]
    },
    {
     "name": "stdout",
     "output_type": "stream",
     "text": [
      "0102_MTRP_03_o_FTAD-C2.jpg segmented and saved to ..\\Data\\segmented_cars\\Audi\n",
      "027308_2012_Audi_A4.jpg segmented and saved to ..\\Data\\segmented_cars\\Audi\n"
     ]
    },
    {
     "name": "stderr",
     "output_type": "stream",
     "text": [
      "image 1/1 c:\\Users\\emiel\\OneDrive\\Personal projects\\Machine Learning\\car-recognition-ML\\notebooks\\..\\Data\\Cars\\Audi\\02audia4.jpg: 384x640 2 trucks, 98.0ms\n",
      "Speed: 2.0ms preprocess, 98.0ms inference, 3.0ms postprocess per image at shape (1, 3, 384, 640)\n",
      "WARNING  'Masks.masks' is deprecated. Use 'Masks.data' instead.\n",
      "\n",
      "image 1/1 c:\\Users\\emiel\\OneDrive\\Personal projects\\Machine Learning\\car-recognition-ML\\notebooks\\..\\Data\\Cars\\Audi\\02audia8.jpg: 416x640 1 car, 108.9ms\n",
      "Speed: 2.0ms preprocess, 108.9ms inference, 2.0ms postprocess per image at shape (1, 3, 416, 640)\n",
      "WARNING  'Masks.masks' is deprecated. Use 'Masks.data' instead.\n",
      "\n"
     ]
    },
    {
     "name": "stdout",
     "output_type": "stream",
     "text": [
      "02audia4.jpg segmented and saved to ..\\Data\\segmented_cars\\Audi\n",
      "02audia8.jpg segmented and saved to ..\\Data\\segmented_cars\\Audi\n"
     ]
    },
    {
     "name": "stderr",
     "output_type": "stream",
     "text": [
      "image 1/1 c:\\Users\\emiel\\OneDrive\\Personal projects\\Machine Learning\\car-recognition-ML\\notebooks\\..\\Data\\Cars\\Audi\\041b3ea5-5595-4d55-80f0-c2c7b81f0c08.png: 448x640 1 car, 117.9ms\n",
      "Speed: 2.0ms preprocess, 117.9ms inference, 4.0ms postprocess per image at shape (1, 3, 448, 640)\n",
      "WARNING  'Masks.masks' is deprecated. Use 'Masks.data' instead.\n",
      "\n",
      "image 1/1 c:\\Users\\emiel\\OneDrive\\Personal projects\\Machine Learning\\car-recognition-ML\\notebooks\\..\\Data\\Cars\\Audi\\066626_Audi_Q3_2012_Une_commercialisation_en_accelere.jpg: 416x640 1 car, 104.6ms\n",
      "Speed: 1.0ms preprocess, 104.6ms inference, 3.3ms postprocess per image at shape (1, 3, 416, 640)\n",
      "WARNING  'Masks.masks' is deprecated. Use 'Masks.data' instead.\n",
      "\n"
     ]
    },
    {
     "name": "stdout",
     "output_type": "stream",
     "text": [
      "041b3ea5-5595-4d55-80f0-c2c7b81f0c08.png segmented and saved to ..\\Data\\segmented_cars\\Audi\n",
      "066626_Audi_Q3_2012_Une_commercialisation_en_accelere.jpg segmented and saved to ..\\Data\\segmented_cars\\Audi\n"
     ]
    },
    {
     "name": "stderr",
     "output_type": "stream",
     "text": [
      "image 1/1 c:\\Users\\emiel\\OneDrive\\Personal projects\\Machine Learning\\car-recognition-ML\\notebooks\\..\\Data\\Cars\\Audi\\07-s8.jpg: 320x640 1 car, 82.5ms\n",
      "Speed: 1.0ms preprocess, 82.5ms inference, 2.0ms postprocess per image at shape (1, 3, 320, 640)\n",
      "WARNING  'Masks.masks' is deprecated. Use 'Masks.data' instead.\n",
      "\n",
      "image 1/1 c:\\Users\\emiel\\OneDrive\\Personal projects\\Machine Learning\\car-recognition-ML\\notebooks\\..\\Data\\Cars\\Audi\\07e0d938-97c2-4829-b115-cb2aa0879744.png: 448x640 1 car, 125.1ms\n",
      "Speed: 2.0ms preprocess, 125.1ms inference, 3.0ms postprocess per image at shape (1, 3, 448, 640)\n",
      "WARNING  'Masks.masks' is deprecated. Use 'Masks.data' instead.\n",
      "\n"
     ]
    },
    {
     "name": "stdout",
     "output_type": "stream",
     "text": [
      "07-s8.jpg segmented and saved to ..\\Data\\segmented_cars\\Audi\n",
      "07e0d938-97c2-4829-b115-cb2aa0879744.png segmented and saved to ..\\Data\\segmented_cars\\Audi\n"
     ]
    },
    {
     "name": "stderr",
     "output_type": "stream",
     "text": [
      "image 1/1 c:\\Users\\emiel\\OneDrive\\Personal projects\\Machine Learning\\car-recognition-ML\\notebooks\\..\\Data\\Cars\\Audi\\0a498eeaea4a28fb5dee29e050264fef.jpg: 480x640 1 car, 143.5ms\n",
      "Speed: 3.0ms preprocess, 143.5ms inference, 10.0ms postprocess per image at shape (1, 3, 480, 640)\n",
      "WARNING  'Masks.masks' is deprecated. Use 'Masks.data' instead.\n",
      "\n",
      "image 1/1 c:\\Users\\emiel\\OneDrive\\Personal projects\\Machine Learning\\car-recognition-ML\\notebooks\\..\\Data\\Cars\\Audi\\1 2.jpg: 448x640 2 cars, 131.0ms\n",
      "Speed: 3.0ms preprocess, 131.0ms inference, 10.0ms postprocess per image at shape (1, 3, 448, 640)\n",
      "WARNING  'Masks.masks' is deprecated. Use 'Masks.data' instead.\n",
      "\n"
     ]
    },
    {
     "name": "stdout",
     "output_type": "stream",
     "text": [
      "0a498eeaea4a28fb5dee29e050264fef.jpg segmented and saved to ..\\Data\\segmented_cars\\Audi\n",
      "1 2.jpg segmented and saved to ..\\Data\\segmented_cars\\Audi\n"
     ]
    },
    {
     "name": "stderr",
     "output_type": "stream",
     "text": [
      "image 1/1 c:\\Users\\emiel\\OneDrive\\Personal projects\\Machine Learning\\car-recognition-ML\\notebooks\\..\\Data\\Cars\\Audi\\1.jpg: 480x640 1 car, 120.0ms\n",
      "Speed: 2.0ms preprocess, 120.0ms inference, 22.9ms postprocess per image at shape (1, 3, 480, 640)\n",
      "WARNING  'Masks.masks' is deprecated. Use 'Masks.data' instead.\n",
      "\n",
      "image 1/1 c:\\Users\\emiel\\OneDrive\\Personal projects\\Machine Learning\\car-recognition-ML\\notebooks\\..\\Data\\Cars\\Audi\\10-nieuwe-audi-modellen-op-komst-2021-970-011.jpg: 448x640 2 cars, 111.4ms\n",
      "Speed: 3.0ms preprocess, 111.4ms inference, 22.2ms postprocess per image at shape (1, 3, 448, 640)\n",
      "WARNING  'Masks.masks' is deprecated. Use 'Masks.data' instead.\n"
     ]
    },
    {
     "name": "stdout",
     "output_type": "stream",
     "text": [
      "1.jpg segmented and saved to ..\\Data\\segmented_cars\\Audi\n"
     ]
    },
    {
     "name": "stderr",
     "output_type": "stream",
     "text": [
      "\n",
      "image 1/1 c:\\Users\\emiel\\OneDrive\\Personal projects\\Machine Learning\\car-recognition-ML\\notebooks\\..\\Data\\Cars\\Audi\\1031909-1-2007-a4-quattro-audi-cabriolet-stock-touren-performance-black.jpg: 480x640 1 car, 1 truck, 125.1ms\n",
      "Speed: 2.0ms preprocess, 125.1ms inference, 10.6ms postprocess per image at shape (1, 3, 480, 640)\n",
      "WARNING  'Masks.masks' is deprecated. Use 'Masks.data' instead.\n",
      "\n"
     ]
    },
    {
     "name": "stdout",
     "output_type": "stream",
     "text": [
      "10-nieuwe-audi-modellen-op-komst-2021-970-011.jpg segmented and saved to ..\\Data\\segmented_cars\\Audi\n",
      "1031909-1-2007-a4-quattro-audi-cabriolet-stock-touren-performance-black.jpg segmented and saved to ..\\Data\\segmented_cars\\Audi\n"
     ]
    },
    {
     "name": "stderr",
     "output_type": "stream",
     "text": [
      "image 1/1 c:\\Users\\emiel\\OneDrive\\Personal projects\\Machine Learning\\car-recognition-ML\\notebooks\\..\\Data\\Cars\\Audi\\10325-audir8coupev10gtrwdeuropeanmodelshown-1664890449.jpg: 448x640 1 car, 112.0ms\n",
      "Speed: 2.0ms preprocess, 112.0ms inference, 32.6ms postprocess per image at shape (1, 3, 448, 640)\n",
      "WARNING  'Masks.masks' is deprecated. Use 'Masks.data' instead.\n",
      "\n",
      "image 1/1 c:\\Users\\emiel\\OneDrive\\Personal projects\\Machine Learning\\car-recognition-ML\\notebooks\\..\\Data\\Cars\\Audi\\10907_1.jpg: 448x640 1 car, 106.0ms\n",
      "Speed: 2.0ms preprocess, 106.0ms inference, 6.0ms postprocess per image at shape (1, 3, 448, 640)\n",
      "WARNING  'Masks.masks' is deprecated. Use 'Masks.data' instead.\n",
      "\n"
     ]
    },
    {
     "name": "stdout",
     "output_type": "stream",
     "text": [
      "10325-audir8coupev10gtrwdeuropeanmodelshown-1664890449.jpg segmented and saved to ..\\Data\\segmented_cars\\Audi\n",
      "10907_1.jpg segmented and saved to ..\\Data\\segmented_cars\\Audi\n"
     ]
    },
    {
     "name": "stderr",
     "output_type": "stream",
     "text": [
      "image 1/1 c:\\Users\\emiel\\OneDrive\\Personal projects\\Machine Learning\\car-recognition-ML\\notebooks\\..\\Data\\Cars\\Audi\\12-a5-hero-s5.jpg: 416x640 1 car, 132.7ms\n",
      "Speed: 2.0ms preprocess, 132.7ms inference, 3.0ms postprocess per image at shape (1, 3, 416, 640)\n",
      "WARNING  'Masks.masks' is deprecated. Use 'Masks.data' instead.\n",
      "\n",
      "\n",
      "image 1/1 c:\\Users\\emiel\\OneDrive\\Personal projects\\Machine Learning\\car-recognition-ML\\notebooks\\..\\Data\\Cars\\Audi\\1200px-Audi_A4_Avant_front_20071215.jpg: 384x640 3 cars, 96.0ms\n",
      "Speed: 2.0ms preprocess, 96.0ms inference, 14.0ms postprocess per image at shape (1, 3, 384, 640)\n",
      "WARNING  'Masks.masks' is deprecated. Use 'Masks.data' instead.\n",
      "\n"
     ]
    },
    {
     "name": "stdout",
     "output_type": "stream",
     "text": [
      "12-a5-hero-s5.jpg segmented and saved to ..\\Data\\segmented_cars\\Audi\n",
      "An exception occurred: ..\\Data\\Cars\\Audi\\1200px-Audi_A4_20_2002_281071757368529.jpg does not exist\n",
      "1200px-Audi_A4_Avant_front_20071215.jpg segmented and saved to ..\\Data\\segmented_cars\\Audi\n"
     ]
    },
    {
     "name": "stderr",
     "output_type": "stream",
     "text": [
      "image 1/1 c:\\Users\\emiel\\OneDrive\\Personal projects\\Machine Learning\\car-recognition-ML\\notebooks\\..\\Data\\Cars\\Audi\\1366_2000.png: 448x640 1 car, 112.0ms\n",
      "Speed: 2.0ms preprocess, 112.0ms inference, 9.0ms postprocess per image at shape (1, 3, 448, 640)\n",
      "WARNING  'Masks.masks' is deprecated. Use 'Masks.data' instead.\n",
      "\n",
      "image 1/1 c:\\Users\\emiel\\OneDrive\\Personal projects\\Machine Learning\\car-recognition-ML\\notebooks\\..\\Data\\Cars\\Audi\\1397077-1-2002-a4-quattro-audi-base-bc-racing-coilovers-rotiform-kps-machined.jpg: 480x640 4 cars, 1 bus, 1 truck, 120.5ms\n",
      "Speed: 2.0ms preprocess, 120.5ms inference, 24.5ms postprocess per image at shape (1, 3, 480, 640)\n",
      "WARNING  'Masks.masks' is deprecated. Use 'Masks.data' instead.\n",
      "\n"
     ]
    },
    {
     "name": "stdout",
     "output_type": "stream",
     "text": [
      "1366_2000.png segmented and saved to ..\\Data\\segmented_cars\\Audi\n",
      "1397077-1-2002-a4-quattro-audi-base-bc-racing-coilovers-rotiform-kps-machined.jpg segmented and saved to ..\\Data\\segmented_cars\\Audi\n"
     ]
    },
    {
     "name": "stderr",
     "output_type": "stream",
     "text": [
      "image 1/1 c:\\Users\\emiel\\OneDrive\\Personal projects\\Machine Learning\\car-recognition-ML\\notebooks\\..\\Data\\Cars\\Audi\\140090-cars-review-audi-a5-2017-review-IM444441-bnrhzqo5ou.jpg: 448x640 1 car, 129.5ms\n",
      "Speed: 6.0ms preprocess, 129.5ms inference, 10.4ms postprocess per image at shape (1, 3, 448, 640)\n",
      "WARNING  'Masks.masks' is deprecated. Use 'Masks.data' instead.\n",
      "\n",
      "image 1/1 c:\\Users\\emiel\\OneDrive\\Personal projects\\Machine Learning\\car-recognition-ML\\notebooks\\..\\Data\\Cars\\Audi\\142623-cars-review-audi-a8-review-IM444441-oeorhy2mcv.jpg: 448x640 1 car, 110.5ms\n",
      "Speed: 2.0ms preprocess, 110.5ms inference, 11.0ms postprocess per image at shape (1, 3, 448, 640)\n",
      "WARNING  'Masks.masks' is deprecated. Use 'Masks.data' instead.\n",
      "\n"
     ]
    },
    {
     "name": "stdout",
     "output_type": "stream",
     "text": [
      "140090-cars-review-audi-a5-2017-review-IM444441-bnrhzqo5ou.jpg segmented and saved to ..\\Data\\segmented_cars\\Audi\n",
      "142623-cars-review-audi-a8-review-IM444441-oeorhy2mcv.jpg segmented and saved to ..\\Data\\segmented_cars\\Audi\n"
     ]
    },
    {
     "name": "stderr",
     "output_type": "stream",
     "text": [
      "\n",
      "\n",
      "image 1/1 c:\\Users\\emiel\\OneDrive\\Personal projects\\Machine Learning\\car-recognition-ML\\notebooks\\..\\Data\\Cars\\Audi\\166f25d3-0b41-4544-a706-1d038a7bf81f.jpg: 480x640 1 car, 120.5ms\n",
      "Speed: 3.0ms preprocess, 120.5ms inference, 4.0ms postprocess per image at shape (1, 3, 480, 640)\n",
      "WARNING  'Masks.masks' is deprecated. Use 'Masks.data' instead.\n",
      "\n"
     ]
    },
    {
     "name": "stdout",
     "output_type": "stream",
     "text": [
      "An exception occurred: ..\\Data\\Cars\\Audi\\14751589851459.jpg does not exist\n",
      "An exception occurred: ..\\Data\\Cars\\Audi\\14751589995715.jpg does not exist\n",
      "166f25d3-0b41-4544-a706-1d038a7bf81f.jpg segmented and saved to ..\\Data\\segmented_cars\\Audi\n"
     ]
    },
    {
     "name": "stderr",
     "output_type": "stream",
     "text": [
      "image 1/1 c:\\Users\\emiel\\OneDrive\\Personal projects\\Machine Learning\\car-recognition-ML\\notebooks\\..\\Data\\Cars\\Audi\\17cb96c2-bda2-44cb-9338-64532985ee76.jpg: 384x640 6 cars, 1 truck, 98.0ms\n",
      "Speed: 2.0ms preprocess, 98.0ms inference, 112.5ms postprocess per image at shape (1, 3, 384, 640)\n",
      "WARNING  'Masks.masks' is deprecated. Use 'Masks.data' instead.\n",
      "\n",
      "image 1/1 c:\\Users\\emiel\\OneDrive\\Personal projects\\Machine Learning\\car-recognition-ML\\notebooks\\..\\Data\\Cars\\Audi\\186e08c1-8bb9-4a41-b16b-dcdc1d9d62e1.png: 448x640 1 car, 1 truck, 116.0ms\n",
      "Speed: 2.0ms preprocess, 116.0ms inference, 12.1ms postprocess per image at shape (1, 3, 448, 640)\n",
      "WARNING  'Masks.masks' is deprecated. Use 'Masks.data' instead.\n",
      "\n"
     ]
    },
    {
     "name": "stdout",
     "output_type": "stream",
     "text": [
      "17cb96c2-bda2-44cb-9338-64532985ee76.jpg segmented and saved to ..\\Data\\segmented_cars\\Audi\n",
      "186e08c1-8bb9-4a41-b16b-dcdc1d9d62e1.png segmented and saved to ..\\Data\\segmented_cars\\Audi\n"
     ]
    },
    {
     "name": "stderr",
     "output_type": "stream",
     "text": [
      "image 1/1 c:\\Users\\emiel\\OneDrive\\Personal projects\\Machine Learning\\car-recognition-ML\\notebooks\\..\\Data\\Cars\\Audi\\1audis8carreviewpicutres.jpg: 384x640 1 car, 97.6ms\n",
      "Speed: 1.0ms preprocess, 97.6ms inference, 3.0ms postprocess per image at shape (1, 3, 384, 640)\n",
      "WARNING  'Masks.masks' is deprecated. Use 'Masks.data' instead.\n",
      "\n",
      "image 1/1 c:\\Users\\emiel\\OneDrive\\Personal projects\\Machine Learning\\car-recognition-ML\\notebooks\\..\\Data\\Cars\\Audi\\2 2.jpg: 448x640 2 cars, 1 truck, 118.8ms\n",
      "Speed: 3.0ms preprocess, 118.8ms inference, 18.9ms postprocess per image at shape (1, 3, 448, 640)\n",
      "WARNING  'Masks.masks' is deprecated. Use 'Masks.data' instead.\n"
     ]
    },
    {
     "name": "stdout",
     "output_type": "stream",
     "text": [
      "1audis8carreviewpicutres.jpg segmented and saved to ..\\Data\\segmented_cars\\Audi\n"
     ]
    },
    {
     "name": "stderr",
     "output_type": "stream",
     "text": [
      "\n",
      "image 1/1 c:\\Users\\emiel\\OneDrive\\Personal projects\\Machine Learning\\car-recognition-ML\\notebooks\\..\\Data\\Cars\\Audi\\2.jpg: 320x640 1 toilet, 83.0ms\n",
      "Speed: 2.0ms preprocess, 83.0ms inference, 5.0ms postprocess per image at shape (1, 3, 320, 640)\n",
      "WARNING  'Masks.masks' is deprecated. Use 'Masks.data' instead.\n",
      "\n"
     ]
    },
    {
     "name": "stdout",
     "output_type": "stream",
     "text": [
      "2 2.jpg segmented and saved to ..\\Data\\segmented_cars\\Audi\n",
      "2.jpg segmented and saved to ..\\Data\\segmented_cars\\Audi\n"
     ]
    },
    {
     "name": "stderr",
     "output_type": "stream",
     "text": [
      "image 1/1 c:\\Users\\emiel\\OneDrive\\Personal projects\\Machine Learning\\car-recognition-ML\\notebooks\\..\\Data\\Cars\\Audi\\2001_audi_s4_wagon_avant-quattro_fq_oem_2_500.jpg: 416x640 2 persons, 1 car, 109.3ms\n",
      "Speed: 1.0ms preprocess, 109.3ms inference, 5.0ms postprocess per image at shape (1, 3, 416, 640)\n",
      "WARNING  'Masks.masks' is deprecated. Use 'Masks.data' instead.\n",
      "\n",
      "\n",
      "image 1/1 c:\\Users\\emiel\\OneDrive\\Personal projects\\Machine Learning\\car-recognition-ML\\notebooks\\..\\Data\\Cars\\Audi\\2002-audi-a4-1-8t_100029337_m.jpg: 320x640 1 car, 81.2ms\n",
      "Speed: 2.0ms preprocess, 81.2ms inference, 3.0ms postprocess per image at shape (1, 3, 320, 640)\n",
      "WARNING  'Masks.masks' is deprecated. Use 'Masks.data' instead.\n",
      "\n"
     ]
    },
    {
     "name": "stdout",
     "output_type": "stream",
     "text": [
      "2001_audi_s4_wagon_avant-quattro_fq_oem_2_500.jpg segmented and saved to ..\\Data\\segmented_cars\\Audi\n",
      "An exception occurred: ..\\Data\\Cars\\Audi\\2002-2005_Audi_A4_288E29_20_Avant_282011-10-2529_02.jpg does not exist\n",
      "2002-audi-a4-1-8t_100029337_m.jpg segmented and saved to ..\\Data\\segmented_cars\\Audi\n"
     ]
    },
    {
     "name": "stderr",
     "output_type": "stream",
     "text": [
      "image 1/1 c:\\Users\\emiel\\OneDrive\\Personal projects\\Machine Learning\\car-recognition-ML\\notebooks\\..\\Data\\Cars\\Audi\\2002-audi-a4-3-0-avant-awd-quattro-4dr-wagon.jpg: 480x640 4 cars, 117.8ms\n",
      "Speed: 3.0ms preprocess, 117.8ms inference, 11.0ms postprocess per image at shape (1, 3, 480, 640)\n",
      "WARNING  'Masks.masks' is deprecated. Use 'Masks.data' instead.\n",
      "\n",
      "image 1/1 c:\\Users\\emiel\\OneDrive\\Personal projects\\Machine Learning\\car-recognition-ML\\notebooks\\..\\Data\\Cars\\Audi\\2002-audi-a4-30-quattro-photo-5860-s-original.jpg: 448x640 1 car, 126.3ms\n",
      "Speed: 3.0ms preprocess, 126.3ms inference, 3.0ms postprocess per image at shape (1, 3, 448, 640)\n",
      "WARNING  'Masks.masks' is deprecated. Use 'Masks.data' instead.\n",
      "\n"
     ]
    },
    {
     "name": "stdout",
     "output_type": "stream",
     "text": [
      "2002-audi-a4-3-0-avant-awd-quattro-4dr-wagon.jpg segmented and saved to ..\\Data\\segmented_cars\\Audi\n",
      "2002-audi-a4-30-quattro-photo-5860-s-original.jpg segmented and saved to ..\\Data\\segmented_cars\\Audi\n"
     ]
    },
    {
     "name": "stderr",
     "output_type": "stream",
     "text": [
      "image 1/1 c:\\Users\\emiel\\OneDrive\\Personal projects\\Machine Learning\\car-recognition-ML\\notebooks\\..\\Data\\Cars\\Audi\\2002-audi-a4-30-road-test-review-car-and-driver-photo-6102-s-original.jpg: 416x640 1 car, 107.2ms\n",
      "Speed: 1.0ms preprocess, 107.2ms inference, 7.0ms postprocess per image at shape (1, 3, 416, 640)\n",
      "WARNING  'Masks.masks' is deprecated. Use 'Masks.data' instead.\n",
      "\n",
      "image 1/1 c:\\Users\\emiel\\OneDrive\\Personal projects\\Machine Learning\\car-recognition-ML\\notebooks\\..\\Data\\Cars\\Audi\\2002-audi-a4-i02.jpg: 384x640 1 car, 1 truck, 98.3ms\n",
      "Speed: 2.0ms preprocess, 98.3ms inference, 3.0ms postprocess per image at shape (1, 3, 384, 640)\n",
      "WARNING  'Masks.masks' is deprecated. Use 'Masks.data' instead.\n",
      "\n"
     ]
    },
    {
     "name": "stdout",
     "output_type": "stream",
     "text": [
      "2002-audi-a4-30-road-test-review-car-and-driver-photo-6102-s-original.jpg segmented and saved to ..\\Data\\segmented_cars\\Audi\n",
      "2002-audi-a4-i02.jpg segmented and saved to ..\\Data\\segmented_cars\\Audi\n"
     ]
    },
    {
     "name": "stderr",
     "output_type": "stream",
     "text": [
      "image 1/1 c:\\Users\\emiel\\OneDrive\\Personal projects\\Machine Learning\\car-recognition-ML\\notebooks\\..\\Data\\Cars\\Audi\\2002-Audi-A4-Wagon-Silver-Press-IM11111-1001x565p.jpg: 384x640 1 car, 95.8ms\n",
      "Speed: 2.0ms preprocess, 95.8ms inference, 6.0ms postprocess per image at shape (1, 3, 384, 640)\n",
      "WARNING  'Masks.masks' is deprecated. Use 'Masks.data' instead.\n",
      "\n",
      "image 1/1 c:\\Users\\emiel\\OneDrive\\Personal projects\\Machine Learning\\car-recognition-ML\\notebooks\\..\\Data\\Cars\\Audi\\2002-Audi-allroad-quattro-Wagon-Black-Press-IM11111-1001x565p.jpg: 384x640 1 car, 96.2ms\n",
      "Speed: 3.0ms preprocess, 96.2ms inference, 6.4ms postprocess per image at shape (1, 3, 384, 640)\n",
      "WARNING  'Masks.masks' is deprecated. Use 'Masks.data' instead.\n",
      "\n"
     ]
    },
    {
     "name": "stdout",
     "output_type": "stream",
     "text": [
      "2002-Audi-A4-Wagon-Silver-Press-IM11111-1001x565p.jpg segmented and saved to ..\\Data\\segmented_cars\\Audi\n",
      "2002-Audi-allroad-quattro-Wagon-Black-Press-IM11111-1001x565p.jpg segmented and saved to ..\\Data\\segmented_cars\\Audi\n"
     ]
    },
    {
     "name": "stderr",
     "output_type": "stream",
     "text": [
      "image 1/1 c:\\Users\\emiel\\OneDrive\\Personal projects\\Machine Learning\\car-recognition-ML\\notebooks\\..\\Data\\Cars\\Audi\\2002-audi-rs6-sedan-4b-c5-4.jpg: 448x640 1 car, 1 truck, 136.4ms\n",
      "Speed: 2.0ms preprocess, 136.4ms inference, 6.0ms postprocess per image at shape (1, 3, 448, 640)\n",
      "WARNING  'Masks.masks' is deprecated. Use 'Masks.data' instead.\n",
      "\n",
      "\n",
      "\n",
      "image 1/1 c:\\Users\\emiel\\OneDrive\\Personal projects\\Machine Learning\\car-recognition-ML\\notebooks\\..\\Data\\Cars\\Audi\\2002_Audi_A4_Avant.jpg: 384x640 1 car, 92.8ms\n",
      "Speed: 2.0ms preprocess, 92.8ms inference, 5.0ms postprocess per image at shape (1, 3, 384, 640)\n",
      "WARNING  'Masks.masks' is deprecated. Use 'Masks.data' instead.\n",
      "\n"
     ]
    },
    {
     "name": "stdout",
     "output_type": "stream",
     "text": [
      "2002-audi-rs6-sedan-4b-c5-4.jpg segmented and saved to ..\\Data\\segmented_cars\\Audi\n",
      "An exception occurred: ..\\Data\\Cars\\Audi\\2002_a4_18t.jpg does not exist\n",
      "An exception occurred: ..\\Data\\Cars\\Audi\\2002_Audi_A4_18T_Quattro_in_Light_Silver_Metallic2C_Front_Right2C_05-29-2022.jpg does not exist\n",
      "2002_Audi_A4_Avant.jpg segmented and saved to ..\\Data\\segmented_cars\\Audi\n"
     ]
    },
    {
     "name": "stderr",
     "output_type": "stream",
     "text": [
      "image 1/1 c:\\Users\\emiel\\OneDrive\\Personal projects\\Machine Learning\\car-recognition-ML\\notebooks\\..\\Data\\Cars\\Audi\\2002_audi_a4_sedan_18t_fq_oem_1_500.jpg: 416x640 1 car, 102.6ms\n",
      "Speed: 2.0ms preprocess, 102.6ms inference, 3.0ms postprocess per image at shape (1, 3, 416, 640)\n",
      "WARNING  'Masks.masks' is deprecated. Use 'Masks.data' instead.\n",
      "\n",
      "image 1/1 c:\\Users\\emiel\\OneDrive\\Personal projects\\Machine Learning\\car-recognition-ML\\notebooks\\..\\Data\\Cars\\Audi\\2002_audi_a4_wagon_18t-avant-quattro_fq_oem_1_500.jpg: 416x640 1 car, 107.0ms\n",
      "Speed: 2.0ms preprocess, 107.0ms inference, 2.1ms postprocess per image at shape (1, 3, 416, 640)\n",
      "WARNING  'Masks.masks' is deprecated. Use 'Masks.data' instead.\n",
      "\n"
     ]
    },
    {
     "name": "stdout",
     "output_type": "stream",
     "text": [
      "2002_audi_a4_sedan_18t_fq_oem_1_500.jpg segmented and saved to ..\\Data\\segmented_cars\\Audi\n",
      "2002_audi_a4_wagon_18t-avant-quattro_fq_oem_1_500.jpg segmented and saved to ..\\Data\\segmented_cars\\Audi\n"
     ]
    },
    {
     "name": "stderr",
     "output_type": "stream",
     "text": [
      "image 1/1 c:\\Users\\emiel\\OneDrive\\Personal projects\\Machine Learning\\car-recognition-ML\\notebooks\\..\\Data\\Cars\\Audi\\2002_audi_a6_wagon_30-avant-quattro_s_oem_1_500.jpg: 416x640 1 car, 116.1ms\n",
      "Speed: 2.0ms preprocess, 116.1ms inference, 3.0ms postprocess per image at shape (1, 3, 416, 640)\n",
      "WARNING  'Masks.masks' is deprecated. Use 'Masks.data' instead.\n",
      "\n",
      "image 1/1 c:\\Users\\emiel\\OneDrive\\Personal projects\\Machine Learning\\car-recognition-ML\\notebooks\\..\\Data\\Cars\\Audi\\2002_Audi_S4Avant2.jpg: 480x640 1 car, 1 truck, 117.2ms\n",
      "Speed: 2.0ms preprocess, 117.2ms inference, 9.9ms postprocess per image at shape (1, 3, 480, 640)\n",
      "WARNING  'Masks.masks' is deprecated. Use 'Masks.data' instead.\n",
      "\n"
     ]
    },
    {
     "name": "stdout",
     "output_type": "stream",
     "text": [
      "2002_audi_a6_wagon_30-avant-quattro_s_oem_1_500.jpg segmented and saved to ..\\Data\\segmented_cars\\Audi\n",
      "2002_Audi_S4Avant2.jpg segmented and saved to ..\\Data\\segmented_cars\\Audi\n"
     ]
    },
    {
     "name": "stderr",
     "output_type": "stream",
     "text": [
      "\n",
      "image 1/1 c:\\Users\\emiel\\OneDrive\\Personal projects\\Machine Learning\\car-recognition-ML\\notebooks\\..\\Data\\Cars\\Audi\\2006-Audi-A8-Sedan-Gold-Press-IM22222-1200x800p.jpg: 448x640 1 car, 116.9ms\n",
      "Speed: 3.0ms preprocess, 116.9ms inference, 5.1ms postprocess per image at shape (1, 3, 448, 640)\n",
      "WARNING  'Masks.masks' is deprecated. Use 'Masks.data' instead.\n",
      "\n",
      "\n"
     ]
    },
    {
     "name": "stdout",
     "output_type": "stream",
     "text": [
      "An exception occurred: ..\\Data\\Cars\\Audi\\2003-audi-a4-18-t-quattro-with-tiptronic-sedan-angular-front.png does not exist\n",
      "2006-Audi-A8-Sedan-Gold-Press-IM22222-1200x800p.jpg segmented and saved to ..\\Data\\segmented_cars\\Audi\n",
      "An exception occurred: ..\\Data\\Cars\\Audi\\2007-audi-a3-20-t-dsg-hatchback-angular-front.png does not exist\n"
     ]
    },
    {
     "name": "stderr",
     "output_type": "stream",
     "text": [
      "image 1/1 c:\\Users\\emiel\\OneDrive\\Personal projects\\Machine Learning\\car-recognition-ML\\notebooks\\..\\Data\\Cars\\Audi\\2007-audi-a4-2-0t-quattro-awd-2dr-convertible-6a.jpg: 448x640 1 car, 114.5ms\n",
      "Speed: 2.0ms preprocess, 114.5ms inference, 7.0ms postprocess per image at shape (1, 3, 448, 640)\n",
      "WARNING  'Masks.masks' is deprecated. Use 'Masks.data' instead.\n",
      "\n",
      "\n",
      "image 1/1 c:\\Users\\emiel\\OneDrive\\Personal projects\\Machine Learning\\car-recognition-ML\\notebooks\\..\\Data\\Cars\\Audi\\2007-audi-a4-avant-20t-quattro-photo-105025-s-original.jpg: 416x640 1 car, 102.0ms\n",
      "Speed: 3.0ms preprocess, 102.0ms inference, 3.0ms postprocess per image at shape (1, 3, 416, 640)\n",
      "WARNING  'Masks.masks' is deprecated. Use 'Masks.data' instead.\n",
      "\n"
     ]
    },
    {
     "name": "stdout",
     "output_type": "stream",
     "text": [
      "2007-audi-a4-2-0t-quattro-awd-2dr-convertible-6a.jpg segmented and saved to ..\\Data\\segmented_cars\\Audi\n",
      "An exception occurred: ..\\Data\\Cars\\Audi\\2007-audi-a4-20-t-with-multitronic-sedan-angular-front.png does not exist\n",
      "2007-audi-a4-avant-20t-quattro-photo-105025-s-original.jpg segmented and saved to ..\\Data\\segmented_cars\\Audi\n"
     ]
    },
    {
     "name": "stderr",
     "output_type": "stream",
     "text": [
      "image 1/1 c:\\Users\\emiel\\OneDrive\\Personal projects\\Machine Learning\\car-recognition-ML\\notebooks\\..\\Data\\Cars\\Audi\\2007-Audi-A4-convertible.jpg: 416x640 2 cars, 1 truck, 108.9ms\n",
      "Speed: 2.0ms preprocess, 108.9ms inference, 44.0ms postprocess per image at shape (1, 3, 416, 640)\n",
      "WARNING  'Masks.masks' is deprecated. Use 'Masks.data' instead.\n",
      "\n",
      "image 1/1 c:\\Users\\emiel\\OneDrive\\Personal projects\\Machine Learning\\car-recognition-ML\\notebooks\\..\\Data\\Cars\\Audi\\2007-audi-q7-36-photo-4870-s-original.jpg: 416x640 1 car, 104.5ms\n",
      "Speed: 1.8ms preprocess, 104.5ms inference, 5.0ms postprocess per image at shape (1, 3, 416, 640)\n",
      "WARNING  'Masks.masks' is deprecated. Use 'Masks.data' instead.\n",
      "\n"
     ]
    },
    {
     "name": "stdout",
     "output_type": "stream",
     "text": [
      "2007-Audi-A4-convertible.jpg segmented and saved to ..\\Data\\segmented_cars\\Audi\n",
      "2007-audi-q7-36-photo-4870-s-original.jpg segmented and saved to ..\\Data\\segmented_cars\\Audi\n"
     ]
    },
    {
     "name": "stderr",
     "output_type": "stream",
     "text": [
      "image 1/1 c:\\Users\\emiel\\OneDrive\\Personal projects\\Machine Learning\\car-recognition-ML\\notebooks\\..\\Data\\Cars\\Audi\\2007-audi-q7-36-quattro-premium-suv-angular-front.png: 480x640 1 car, 117.9ms\n",
      "Speed: 2.0ms preprocess, 117.9ms inference, 7.0ms postprocess per image at shape (1, 3, 480, 640)\n",
      "WARNING  'Masks.masks' is deprecated. Use 'Masks.data' instead.\n",
      "\n",
      "image 1/1 c:\\Users\\emiel\\OneDrive\\Personal projects\\Machine Learning\\car-recognition-ML\\notebooks\\..\\Data\\Cars\\Audi\\2007-audi-s3-14.jpg: 480x640 1 car, 113.4ms\n",
      "Speed: 4.0ms preprocess, 113.4ms inference, 15.0ms postprocess per image at shape (1, 3, 480, 640)\n",
      "WARNING  'Masks.masks' is deprecated. Use 'Masks.data' instead.\n"
     ]
    },
    {
     "name": "stdout",
     "output_type": "stream",
     "text": [
      "2007-audi-q7-36-quattro-premium-suv-angular-front.png segmented and saved to ..\\Data\\segmented_cars\\Audi\n"
     ]
    },
    {
     "name": "stderr",
     "output_type": "stream",
     "text": [
      "\n",
      "image 1/1 c:\\Users\\emiel\\OneDrive\\Personal projects\\Machine Learning\\car-recognition-ML\\notebooks\\..\\Data\\Cars\\Audi\\2007-audi-s3-news-car-and-driver-photo-105770-s-original.jpg: 416x640 1 car, 123.0ms\n",
      "Speed: 2.0ms preprocess, 123.0ms inference, 5.0ms postprocess per image at shape (1, 3, 416, 640)\n",
      "WARNING  'Masks.masks' is deprecated. Use 'Masks.data' instead.\n",
      "\n"
     ]
    },
    {
     "name": "stdout",
     "output_type": "stream",
     "text": [
      "2007-audi-s3-14.jpg segmented and saved to ..\\Data\\segmented_cars\\Audi\n",
      "2007-audi-s3-news-car-and-driver-photo-105770-s-original.jpg segmented and saved to ..\\Data\\segmented_cars\\Audi\n"
     ]
    },
    {
     "name": "stderr",
     "output_type": "stream",
     "text": [
      "image 1/1 c:\\Users\\emiel\\OneDrive\\Personal projects\\Machine Learning\\car-recognition-ML\\notebooks\\..\\Data\\Cars\\Audi\\2007-audi-s6-photo-8936-s-original.jpg: 416x640 1 person, 1 car, 114.3ms\n",
      "Speed: 1.0ms preprocess, 114.3ms inference, 3.0ms postprocess per image at shape (1, 3, 416, 640)\n",
      "WARNING  'Masks.masks' is deprecated. Use 'Masks.data' instead.\n",
      "\n",
      "image 1/1 c:\\Users\\emiel\\OneDrive\\Personal projects\\Machine Learning\\car-recognition-ML\\notebooks\\..\\Data\\Cars\\Audi\\2007_audi_a4_angularfront.jpg: 480x640 1 car, 130.7ms\n",
      "Speed: 2.0ms preprocess, 130.7ms inference, 4.0ms postprocess per image at shape (1, 3, 480, 640)\n",
      "WARNING  'Masks.masks' is deprecated. Use 'Masks.data' instead.\n",
      "\n"
     ]
    },
    {
     "name": "stdout",
     "output_type": "stream",
     "text": [
      "2007-audi-s6-photo-8936-s-original.jpg segmented and saved to ..\\Data\\segmented_cars\\Audi\n",
      "2007_audi_a4_angularfront.jpg segmented and saved to ..\\Data\\segmented_cars\\Audi\n"
     ]
    },
    {
     "name": "stderr",
     "output_type": "stream",
     "text": [
      "image 1/1 c:\\Users\\emiel\\OneDrive\\Personal projects\\Machine Learning\\car-recognition-ML\\notebooks\\..\\Data\\Cars\\Audi\\2007_audi_a4_avant_s-line_1614283364f550e7DSC8135.jpg: 448x640 1 car, 139.0ms\n",
      "Speed: 3.0ms preprocess, 139.0ms inference, 12.6ms postprocess per image at shape (1, 3, 448, 640)\n",
      "WARNING  'Masks.masks' is deprecated. Use 'Masks.data' instead.\n",
      "\n",
      "image 1/1 c:\\Users\\emiel\\OneDrive\\Personal projects\\Machine Learning\\car-recognition-ML\\notebooks\\..\\Data\\Cars\\Audi\\2007_audi_a4_dashboard.jpg: 480x640 2 toilets, 119.7ms\n",
      "Speed: 2.0ms preprocess, 119.7ms inference, 6.0ms postprocess per image at shape (1, 3, 480, 640)\n",
      "WARNING  'Masks.masks' is deprecated. Use 'Masks.data' instead.\n",
      "\n"
     ]
    },
    {
     "name": "stdout",
     "output_type": "stream",
     "text": [
      "2007_audi_a4_avant_s-line_1614283364f550e7DSC8135.jpg segmented and saved to ..\\Data\\segmented_cars\\Audi\n",
      "2007_audi_a4_dashboard.jpg segmented and saved to ..\\Data\\segmented_cars\\Audi\n"
     ]
    },
    {
     "name": "stderr",
     "output_type": "stream",
     "text": [
      "image 1/1 c:\\Users\\emiel\\OneDrive\\Personal projects\\Machine Learning\\car-recognition-ML\\notebooks\\..\\Data\\Cars\\Audi\\2007_audi_a4_interior.jpg: 288x640 1 car, 1 cell phone, 91.0ms\n",
      "Speed: 2.0ms preprocess, 91.0ms inference, 4.0ms postprocess per image at shape (1, 3, 288, 640)\n",
      "WARNING  'Masks.masks' is deprecated. Use 'Masks.data' instead.\n",
      "\n",
      "image 1/1 c:\\Users\\emiel\\OneDrive\\Personal projects\\Machine Learning\\car-recognition-ML\\notebooks\\..\\Data\\Cars\\Audi\\2007_audi_a4_sedan_20t_fq_oem_1_1600.jpg: 448x640 1 car, 1 truck, 114.9ms\n",
      "Speed: 3.0ms preprocess, 114.9ms inference, 19.2ms postprocess per image at shape (1, 3, 448, 640)\n",
      "WARNING  'Masks.masks' is deprecated. Use 'Masks.data' instead.\n"
     ]
    },
    {
     "name": "stdout",
     "output_type": "stream",
     "text": [
      "2007_audi_a4_interior.jpg segmented and saved to ..\\Data\\segmented_cars\\Audi\n"
     ]
    },
    {
     "name": "stderr",
     "output_type": "stream",
     "text": [
      "\n",
      "image 1/1 c:\\Users\\emiel\\OneDrive\\Personal projects\\Machine Learning\\car-recognition-ML\\notebooks\\..\\Data\\Cars\\Audi\\2007_Audi_A4_Test_Drive_Review_summaryIM22222.jpeg: 480x640 1 car, 134.0ms\n",
      "Speed: 2.0ms preprocess, 134.0ms inference, 9.0ms postprocess per image at shape (1, 3, 480, 640)\n",
      "WARNING  'Masks.masks' is deprecated. Use 'Masks.data' instead.\n",
      "\n"
     ]
    },
    {
     "name": "stdout",
     "output_type": "stream",
     "text": [
      "2007_audi_a4_sedan_20t_fq_oem_1_1600.jpg segmented and saved to ..\\Data\\segmented_cars\\Audi\n",
      "2007_Audi_A4_Test_Drive_Review_summaryIM22222.jpeg segmented and saved to ..\\Data\\segmented_cars\\Audi\n"
     ]
    },
    {
     "name": "stderr",
     "output_type": "stream",
     "text": [
      "image 1/1 c:\\Users\\emiel\\OneDrive\\Personal projects\\Machine Learning\\car-recognition-ML\\notebooks\\..\\Data\\Cars\\Audi\\2007_audi_a4_wagon_20t-avant-quattro_fq_oem_3_1600.jpg: 448x640 1 car, 1 truck, 114.0ms\n",
      "Speed: 3.0ms preprocess, 114.0ms inference, 20.1ms postprocess per image at shape (1, 3, 448, 640)\n",
      "WARNING  'Masks.masks' is deprecated. Use 'Masks.data' instead.\n",
      "\n",
      "image 1/1 c:\\Users\\emiel\\OneDrive\\Personal projects\\Machine Learning\\car-recognition-ML\\notebooks\\..\\Data\\Cars\\Audi\\2007_audi_a6_angularfront.jpg: 480x640 1 car, 120.3ms\n",
      "Speed: 1.0ms preprocess, 120.3ms inference, 6.0ms postprocess per image at shape (1, 3, 480, 640)\n",
      "WARNING  'Masks.masks' is deprecated. Use 'Masks.data' instead.\n",
      "\n"
     ]
    },
    {
     "name": "stdout",
     "output_type": "stream",
     "text": [
      "2007_audi_a4_wagon_20t-avant-quattro_fq_oem_3_1600.jpg segmented and saved to ..\\Data\\segmented_cars\\Audi\n",
      "2007_audi_a6_angularfront.jpg segmented and saved to ..\\Data\\segmented_cars\\Audi\n"
     ]
    },
    {
     "name": "stderr",
     "output_type": "stream",
     "text": [
      "image 1/1 c:\\Users\\emiel\\OneDrive\\Personal projects\\Machine Learning\\car-recognition-ML\\notebooks\\..\\Data\\Cars\\Audi\\2007_audi_a8_sedan_l-quattro_fq_oem_2_1600.jpg: 448x640 1 car, 115.1ms\n",
      "Speed: 2.0ms preprocess, 115.1ms inference, 11.0ms postprocess per image at shape (1, 3, 448, 640)\n",
      "WARNING  'Masks.masks' is deprecated. Use 'Masks.data' instead.\n",
      "\n",
      "\n",
      "image 1/1 c:\\Users\\emiel\\OneDrive\\Personal projects\\Machine Learning\\car-recognition-ML\\notebooks\\..\\Data\\Cars\\Audi\\2007_audi_q7_4dr-suv_36-quattro_fq_oem_3_1600.jpg: 448x640 1 car, 1 truck, 110.8ms\n",
      "Speed: 3.0ms preprocess, 110.8ms inference, 18.5ms postprocess per image at shape (1, 3, 448, 640)\n",
      "WARNING  'Masks.masks' is deprecated. Use 'Masks.data' instead.\n"
     ]
    },
    {
     "name": "stdout",
     "output_type": "stream",
     "text": [
      "2007_audi_a8_sedan_l-quattro_fq_oem_2_1600.jpg segmented and saved to ..\\Data\\segmented_cars\\Audi\n",
      "An exception occurred: ..\\Data\\Cars\\Audi\\2007_Audi_Q7_30_TDI_quattro_02.jpg does not exist\n"
     ]
    },
    {
     "name": "stderr",
     "output_type": "stream",
     "text": [
      "\n",
      "image 1/1 c:\\Users\\emiel\\OneDrive\\Personal projects\\Machine Learning\\car-recognition-ML\\notebooks\\..\\Data\\Cars\\Audi\\2007_Audi_RS_4_Preview_summaryIM22222.jpeg: 480x640 3 cars, 1 truck, 115.2ms\n",
      "Speed: 2.0ms preprocess, 115.2ms inference, 6.0ms postprocess per image at shape (1, 3, 480, 640)\n",
      "WARNING  'Masks.masks' is deprecated. Use 'Masks.data' instead.\n",
      "\n"
     ]
    },
    {
     "name": "stdout",
     "output_type": "stream",
     "text": [
      "2007_audi_q7_4dr-suv_36-quattro_fq_oem_3_1600.jpg segmented and saved to ..\\Data\\segmented_cars\\Audi\n",
      "2007_Audi_RS_4_Preview_summaryIM22222.jpeg segmented and saved to ..\\Data\\segmented_cars\\Audi\n"
     ]
    },
    {
     "name": "stderr",
     "output_type": "stream",
     "text": [
      "image 1/1 c:\\Users\\emiel\\OneDrive\\Personal projects\\Machine Learning\\car-recognition-ML\\notebooks\\..\\Data\\Cars\\Audi\\2012-AUDI-A4-exterior.jpg: 448x640 2 cars, 108.4ms\n",
      "Speed: 1.0ms preprocess, 108.4ms inference, 5.0ms postprocess per image at shape (1, 3, 448, 640)\n",
      "WARNING  'Masks.masks' is deprecated. Use 'Masks.data' instead.\n",
      "\n",
      "image 1/1 c:\\Users\\emiel\\OneDrive\\Personal projects\\Machine Learning\\car-recognition-ML\\notebooks\\..\\Data\\Cars\\Audi\\2012-audi-a4-sedan-driver-seat-carbuzz-774610-1600.jpg: 480x640 1 toilet, 126.5ms\n"
     ]
    },
    {
     "name": "stdout",
     "output_type": "stream",
     "text": [
      "2012-AUDI-A4-exterior.jpg segmented and saved to ..\\Data\\segmented_cars\\Audi\n"
     ]
    },
    {
     "name": "stderr",
     "output_type": "stream",
     "text": [
      "Speed: 3.0ms preprocess, 126.5ms inference, 11.0ms postprocess per image at shape (1, 3, 480, 640)\n",
      "WARNING  'Masks.masks' is deprecated. Use 'Masks.data' instead.\n",
      "\n",
      "image 1/1 c:\\Users\\emiel\\OneDrive\\Personal projects\\Machine Learning\\car-recognition-ML\\notebooks\\..\\Data\\Cars\\Audi\\2012-Audi-A5.jpg: 320x640 1 car, 80.0ms\n",
      "Speed: 1.0ms preprocess, 80.0ms inference, 3.0ms postprocess per image at shape (1, 3, 320, 640)\n",
      "WARNING  'Masks.masks' is deprecated. Use 'Masks.data' instead.\n",
      "\n"
     ]
    },
    {
     "name": "stdout",
     "output_type": "stream",
     "text": [
      "2012-audi-a4-sedan-driver-seat-carbuzz-774610-1600.jpg segmented and saved to ..\\Data\\segmented_cars\\Audi\n",
      "2012-Audi-A5.jpg segmented and saved to ..\\Data\\segmented_cars\\Audi\n"
     ]
    },
    {
     "name": "stderr",
     "output_type": "stream",
     "text": [
      "image 1/1 c:\\Users\\emiel\\OneDrive\\Personal projects\\Machine Learning\\car-recognition-ML\\notebooks\\..\\Data\\Cars\\Audi\\2012-audi-a6-avant-official-photos-and-info-news-car-and-driver-photo-402463-s-original.jpg: 416x640 1 car, 119.0ms\n",
      "Speed: 1.0ms preprocess, 119.0ms inference, 7.0ms postprocess per image at shape (1, 3, 416, 640)\n",
      "WARNING  'Masks.masks' is deprecated. Use 'Masks.data' instead.\n",
      "\n",
      "image 1/1 c:\\Users\\emiel\\OneDrive\\Personal projects\\Machine Learning\\car-recognition-ML\\notebooks\\..\\Data\\Cars\\Audi\\2012-audi-a6-front-left-side-view2.jpg: 416x640 1 car, 104.1ms\n",
      "Speed: 2.0ms preprocess, 104.1ms inference, 8.2ms postprocess per image at shape (1, 3, 416, 640)\n",
      "WARNING  'Masks.masks' is deprecated. Use 'Masks.data' instead.\n"
     ]
    },
    {
     "name": "stdout",
     "output_type": "stream",
     "text": [
      "2012-audi-a6-avant-official-photos-and-info-news-car-and-driver-photo-402463-s-original.jpg segmented and saved to ..\\Data\\segmented_cars\\Audi\n",
      "2012-audi-a6-front-left-side-view2.jpg segmented and saved to ..\\Data\\segmented_cars\\Audi\n"
     ]
    },
    {
     "name": "stderr",
     "output_type": "stream",
     "text": [
      "\n",
      "image 1/1 c:\\Users\\emiel\\OneDrive\\Personal projects\\Machine Learning\\car-recognition-ML\\notebooks\\..\\Data\\Cars\\Audi\\2012-audi-q3-photos-and-info-news-car-and-driver-photo-396522-s-original.jpg: 416x640 1 car, 1 truck, 109.5ms\n",
      "Speed: 2.0ms preprocess, 109.5ms inference, 12.0ms postprocess per image at shape (1, 3, 416, 640)\n",
      "WARNING  'Masks.masks' is deprecated. Use 'Masks.data' instead.\n",
      "\n",
      "\n",
      "image 1/1 c:\\Users\\emiel\\OneDrive\\Personal projects\\Machine Learning\\car-recognition-ML\\notebooks\\..\\Data\\Cars\\Audi\\20120424_061239_front.jpg: 448x640 1 car, 104.9ms\n",
      "Speed: 2.0ms preprocess, 104.9ms inference, 5.0ms postprocess per image at shape (1, 3, 448, 640)\n",
      "WARNING  'Masks.masks' is deprecated. Use 'Masks.data' instead.\n",
      "\n"
     ]
    },
    {
     "name": "stdout",
     "output_type": "stream",
     "text": [
      "2012-audi-q3-photos-and-info-news-car-and-driver-photo-396522-s-original.jpg segmented and saved to ..\\Data\\segmented_cars\\Audi\n",
      "An exception occurred: ..\\Data\\Cars\\Audi\\2012-audi-r8-42-quattro-r-tronic-coupe-angular-front.png does not exist\n",
      "20120424_061239_front.jpg segmented and saved to ..\\Data\\segmented_cars\\Audi\n"
     ]
    },
    {
     "name": "stderr",
     "output_type": "stream",
     "text": [
      "image 1/1 c:\\Users\\emiel\\OneDrive\\Personal projects\\Machine Learning\\car-recognition-ML\\notebooks\\..\\Data\\Cars\\Audi\\2012AUD002b01.jpg: 480x640 1 car, 115.2ms\n",
      "Speed: 1.0ms preprocess, 115.2ms inference, 4.0ms postprocess per image at shape (1, 3, 480, 640)\n",
      "WARNING  'Masks.masks' is deprecated. Use 'Masks.data' instead.\n",
      "\n"
     ]
    },
    {
     "name": "stdout",
     "output_type": "stream",
     "text": [
      "2012AUD002b01.jpg segmented and saved to ..\\Data\\segmented_cars\\Audi\n"
     ]
    },
    {
     "ename": "KeyboardInterrupt",
     "evalue": "",
     "output_type": "error",
     "traceback": [
      "\u001b[1;31m---------------------------------------------------------------------------\u001b[0m",
      "\u001b[1;31mKeyboardInterrupt\u001b[0m                         Traceback (most recent call last)",
      "Cell \u001b[1;32mIn[4], line 8\u001b[0m\n\u001b[0;32m      5\u001b[0m \u001b[39mfor\u001b[39;00m image \u001b[39min\u001b[39;00m os\u001b[39m.\u001b[39mlistdir(dir_brand_orig):\n\u001b[0;32m      6\u001b[0m     \u001b[39mtry\u001b[39;00m:\n\u001b[0;32m      7\u001b[0m         \u001b[39m# segment the image and save\u001b[39;00m\n\u001b[1;32m----> 8\u001b[0m         save_segmented_image(os\u001b[39m.\u001b[39;49mpath\u001b[39m.\u001b[39;49mjoin(dir_brand_orig, image), dir_brand_segm)\n\u001b[0;32m      9\u001b[0m         \u001b[39mprint\u001b[39m(\u001b[39mf\u001b[39m\u001b[39m'\u001b[39m\u001b[39m{\u001b[39;00mimage\u001b[39m}\u001b[39;00m\u001b[39m segmented and saved to \u001b[39m\u001b[39m{\u001b[39;00mdir_brand_segm\u001b[39m}\u001b[39;00m\u001b[39m'\u001b[39m)\n\u001b[0;32m     10\u001b[0m     \u001b[39mexcept\u001b[39;00m \u001b[39mException\u001b[39;00m \u001b[39mas\u001b[39;00m e:\n\u001b[0;32m     11\u001b[0m         \u001b[39m# Print the exception message\u001b[39;00m\n",
      "File \u001b[1;32mc:\\Users\\emiel\\OneDrive\\Personal projects\\Machine Learning\\car-recognition-ML\\notebooks\\..\\src\\car_segmentation.py:42\u001b[0m, in \u001b[0;36msave_segmented_image\u001b[1;34m(imgpath_orig, segm_folder)\u001b[0m\n\u001b[0;32m     39\u001b[0m imgpath_segm \u001b[39m=\u001b[39m os\u001b[39m.\u001b[39mpath\u001b[39m.\u001b[39mjoin(segm_folder, \u001b[39m'\u001b[39m\u001b[39m.\u001b[39m\u001b[39m'\u001b[39m\u001b[39m.\u001b[39mjoin((imgname \u001b[39m+\u001b[39m \u001b[39m'\u001b[39m\u001b[39m_segm\u001b[39m\u001b[39m'\u001b[39m, fileextension)))\n\u001b[0;32m     41\u001b[0m \u001b[39m# perform segmentation\u001b[39;00m\n\u001b[1;32m---> 42\u001b[0m segmented_img \u001b[39m=\u001b[39m get_segmented_image(imgpath_orig)\n\u001b[0;32m     44\u001b[0m \u001b[39m# save segmented image\u001b[39;00m\n\u001b[0;32m     45\u001b[0m \u001b[39m# first check if we even have a segmented image.\u001b[39;00m\n\u001b[0;32m     46\u001b[0m \u001b[39mif\u001b[39;00m \u001b[39mnot\u001b[39;00m \u001b[39misinstance\u001b[39m(segmented_img, \u001b[39mtype\u001b[39m(\u001b[39mNone\u001b[39;00m)):\n",
      "File \u001b[1;32mc:\\Users\\emiel\\OneDrive\\Personal projects\\Machine Learning\\car-recognition-ML\\notebooks\\..\\src\\car_segmentation.py:12\u001b[0m, in \u001b[0;36mget_segmented_image\u001b[1;34m(imgpath)\u001b[0m\n\u001b[0;32m     10\u001b[0m \u001b[39mdef\u001b[39;00m \u001b[39mget_segmented_image\u001b[39m(imgpath):\n\u001b[0;32m     11\u001b[0m     \u001b[39m# perform the segmentation on the image\u001b[39;00m\n\u001b[1;32m---> 12\u001b[0m     results \u001b[39m=\u001b[39m segmentation_model\u001b[39m.\u001b[39;49mpredict(imgpath, retina_masks\u001b[39m=\u001b[39;49m\u001b[39mTrue\u001b[39;49;00m)\n\u001b[0;32m     14\u001b[0m     \u001b[39m# get only the segmentation-highlighted objects from the image using the obtained masks\u001b[39;00m\n\u001b[0;32m     15\u001b[0m     \u001b[39m# from https://github.com/ultralytics/ultralytics/issues/1411\u001b[39;00m\n\u001b[0;32m     16\u001b[0m     segmented_img \u001b[39m=\u001b[39m \u001b[39mNone\u001b[39;00m\n",
      "File \u001b[1;32mc:\\Users\\emiel\\anaconda3\\envs\\newbase\\Lib\\site-packages\\torch\\utils\\_contextlib.py:115\u001b[0m, in \u001b[0;36mcontext_decorator.<locals>.decorate_context\u001b[1;34m(*args, **kwargs)\u001b[0m\n\u001b[0;32m    112\u001b[0m \u001b[39m@functools\u001b[39m\u001b[39m.\u001b[39mwraps(func)\n\u001b[0;32m    113\u001b[0m \u001b[39mdef\u001b[39;00m \u001b[39mdecorate_context\u001b[39m(\u001b[39m*\u001b[39margs, \u001b[39m*\u001b[39m\u001b[39m*\u001b[39mkwargs):\n\u001b[0;32m    114\u001b[0m     \u001b[39mwith\u001b[39;00m ctx_factory():\n\u001b[1;32m--> 115\u001b[0m         \u001b[39mreturn\u001b[39;00m func(\u001b[39m*\u001b[39;49margs, \u001b[39m*\u001b[39;49m\u001b[39m*\u001b[39;49mkwargs)\n",
      "File \u001b[1;32mc:\\Users\\emiel\\anaconda3\\envs\\newbase\\Lib\\site-packages\\ultralytics\\engine\\model.py:246\u001b[0m, in \u001b[0;36mModel.predict\u001b[1;34m(self, source, stream, predictor, **kwargs)\u001b[0m\n\u001b[0;32m    244\u001b[0m \u001b[39mif\u001b[39;00m \u001b[39mlen\u001b[39m \u001b[39mand\u001b[39;00m \u001b[39mhasattr\u001b[39m(\u001b[39mself\u001b[39m\u001b[39m.\u001b[39mpredictor, \u001b[39m'\u001b[39m\u001b[39mset_prompts\u001b[39m\u001b[39m'\u001b[39m):\n\u001b[0;32m    245\u001b[0m     \u001b[39mself\u001b[39m\u001b[39m.\u001b[39mpredictor\u001b[39m.\u001b[39mset_prompts(prompts)\n\u001b[1;32m--> 246\u001b[0m \u001b[39mreturn\u001b[39;00m \u001b[39mself\u001b[39m\u001b[39m.\u001b[39mpredictor\u001b[39m.\u001b[39mpredict_cli(source\u001b[39m=\u001b[39msource) \u001b[39mif\u001b[39;00m is_cli \u001b[39melse\u001b[39;00m \u001b[39mself\u001b[39;49m\u001b[39m.\u001b[39;49mpredictor(source\u001b[39m=\u001b[39;49msource, stream\u001b[39m=\u001b[39;49mstream)\n",
      "File \u001b[1;32mc:\\Users\\emiel\\anaconda3\\envs\\newbase\\Lib\\site-packages\\ultralytics\\engine\\predictor.py:197\u001b[0m, in \u001b[0;36mBasePredictor.__call__\u001b[1;34m(self, source, model, stream, *args, **kwargs)\u001b[0m\n\u001b[0;32m    195\u001b[0m     \u001b[39mreturn\u001b[39;00m \u001b[39mself\u001b[39m\u001b[39m.\u001b[39mstream_inference(source, model, \u001b[39m*\u001b[39margs, \u001b[39m*\u001b[39m\u001b[39m*\u001b[39mkwargs)\n\u001b[0;32m    196\u001b[0m \u001b[39melse\u001b[39;00m:\n\u001b[1;32m--> 197\u001b[0m     \u001b[39mreturn\u001b[39;00m \u001b[39mlist\u001b[39m(\u001b[39mself\u001b[39m\u001b[39m.\u001b[39mstream_inference(source, model, \u001b[39m*\u001b[39margs, \u001b[39m*\u001b[39m\u001b[39m*\u001b[39mkwargs))\n",
      "File \u001b[1;32mc:\\Users\\emiel\\anaconda3\\envs\\newbase\\Lib\\site-packages\\torch\\utils\\_contextlib.py:35\u001b[0m, in \u001b[0;36m_wrap_generator.<locals>.generator_context\u001b[1;34m(*args, **kwargs)\u001b[0m\n\u001b[0;32m     32\u001b[0m \u001b[39mtry\u001b[39;00m:\n\u001b[0;32m     33\u001b[0m     \u001b[39m# Issuing `None` to a generator fires it up\u001b[39;00m\n\u001b[0;32m     34\u001b[0m     \u001b[39mwith\u001b[39;00m ctx_factory():\n\u001b[1;32m---> 35\u001b[0m         response \u001b[39m=\u001b[39m gen\u001b[39m.\u001b[39msend(\u001b[39mNone\u001b[39;00m)\n\u001b[0;32m     37\u001b[0m     \u001b[39mwhile\u001b[39;00m \u001b[39mTrue\u001b[39;00m:\n\u001b[0;32m     38\u001b[0m         \u001b[39mtry\u001b[39;00m:\n\u001b[0;32m     39\u001b[0m             \u001b[39m# Forward the response to our caller and get its next request\u001b[39;00m\n",
      "File \u001b[1;32mc:\\Users\\emiel\\anaconda3\\envs\\newbase\\Lib\\site-packages\\ultralytics\\engine\\predictor.py:242\u001b[0m, in \u001b[0;36mBasePredictor.stream_inference\u001b[1;34m(self, source, model, *args, **kwargs)\u001b[0m\n\u001b[0;32m    240\u001b[0m \u001b[39mself\u001b[39m\u001b[39m.\u001b[39mseen, \u001b[39mself\u001b[39m\u001b[39m.\u001b[39mwindows, \u001b[39mself\u001b[39m\u001b[39m.\u001b[39mbatch, profilers \u001b[39m=\u001b[39m \u001b[39m0\u001b[39m, [], \u001b[39mNone\u001b[39;00m, (ops\u001b[39m.\u001b[39mProfile(), ops\u001b[39m.\u001b[39mProfile(), ops\u001b[39m.\u001b[39mProfile())\n\u001b[0;32m    241\u001b[0m \u001b[39mself\u001b[39m\u001b[39m.\u001b[39mrun_callbacks(\u001b[39m'\u001b[39m\u001b[39mon_predict_start\u001b[39m\u001b[39m'\u001b[39m)\n\u001b[1;32m--> 242\u001b[0m \u001b[39mfor\u001b[39;00m batch \u001b[39min\u001b[39;00m \u001b[39mself\u001b[39m\u001b[39m.\u001b[39mdataset:\n\u001b[0;32m    243\u001b[0m     \u001b[39mself\u001b[39m\u001b[39m.\u001b[39mrun_callbacks(\u001b[39m'\u001b[39m\u001b[39mon_predict_batch_start\u001b[39m\u001b[39m'\u001b[39m)\n\u001b[0;32m    244\u001b[0m     \u001b[39mself\u001b[39m\u001b[39m.\u001b[39mbatch \u001b[39m=\u001b[39m batch\n",
      "File \u001b[1;32mc:\\Users\\emiel\\anaconda3\\envs\\newbase\\Lib\\site-packages\\ultralytics\\data\\loaders.py:238\u001b[0m, in \u001b[0;36mLoadImages.__next__\u001b[1;34m(self)\u001b[0m\n\u001b[0;32m    235\u001b[0m \u001b[39melse\u001b[39;00m:\n\u001b[0;32m    236\u001b[0m     \u001b[39m# Read image\u001b[39;00m\n\u001b[0;32m    237\u001b[0m     \u001b[39mself\u001b[39m\u001b[39m.\u001b[39mcount \u001b[39m+\u001b[39m\u001b[39m=\u001b[39m \u001b[39m1\u001b[39m\n\u001b[1;32m--> 238\u001b[0m     im0 \u001b[39m=\u001b[39m cv2\u001b[39m.\u001b[39;49mimread(path)  \u001b[39m# BGR\u001b[39;00m\n\u001b[0;32m    239\u001b[0m     \u001b[39mif\u001b[39;00m im0 \u001b[39mis\u001b[39;00m \u001b[39mNone\u001b[39;00m:\n\u001b[0;32m    240\u001b[0m         \u001b[39mraise\u001b[39;00m \u001b[39mFileNotFoundError\u001b[39;00m(\u001b[39mf\u001b[39m\u001b[39m'\u001b[39m\u001b[39mImage Not Found \u001b[39m\u001b[39m{\u001b[39;00mpath\u001b[39m}\u001b[39;00m\u001b[39m'\u001b[39m)\n",
      "\u001b[1;31mKeyboardInterrupt\u001b[0m: "
     ]
    }
   ],
   "source": [
    "# go through data folder and get segmented versions\n",
    "for car_brand in os.listdir(dir_carsoriginal):\n",
    "    dir_brand_orig = os.path.join(dir_carsoriginal, car_brand)\n",
    "    dir_brand_segm = os.path.join(dir_segmentedcars, car_brand)\n",
    "    for image in os.listdir(dir_brand_orig):\n",
    "        try:\n",
    "            # segment the image and save\n",
    "            save_segmented_image(os.path.join(dir_brand_orig, image), dir_brand_segm)\n",
    "            print(f'{image} segmented and saved to {dir_brand_segm}')\n",
    "        except Exception as e:\n",
    "            # Print the exception message\n",
    "            print(f\"An exception occurred: {str(e)}\")"
   ]
  }
 ],
 "metadata": {
  "kernelspec": {
   "display_name": "newbase",
   "language": "python",
   "name": "python3"
  },
  "language_info": {
   "codemirror_mode": {
    "name": "ipython",
    "version": 3
   },
   "file_extension": ".py",
   "mimetype": "text/x-python",
   "name": "python",
   "nbconvert_exporter": "python",
   "pygments_lexer": "ipython3",
   "version": "3.11.4"
  },
  "orig_nbformat": 4
 },
 "nbformat": 4,
 "nbformat_minor": 2
}
