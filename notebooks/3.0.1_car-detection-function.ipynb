{
 "cells": [
  {
   "cell_type": "markdown",
   "metadata": {},
   "source": [
    "# Preprocessing: segmentation of cars within the dataset\n",
    "Here, we will go through our dataset of car images and use Ultralytics' YOLO to detect the cars using image segmentation and cut them out of the pictures. This will act as a way of 'cleaning' our data and reduce the noise of the input of our network later on."
   ]
  },
  {
   "cell_type": "code",
   "execution_count": 20,
   "metadata": {},
   "outputs": [],
   "source": [
    "# import dependencies\n",
    "from ultralytics import YOLO\n",
    "import cv2\n",
    "import numpy as np\n",
    "import os"
   ]
  },
  {
   "cell_type": "code",
   "execution_count": 21,
   "metadata": {},
   "outputs": [],
   "source": [
    "# define folders\n",
    "dir_segmentedcars = os.path.join('Data','segmented_cars')\n",
    "dir_carsoriginal = os.path.join('Data', 'Cars')"
   ]
  },
  {
   "cell_type": "code",
   "execution_count": 22,
   "metadata": {},
   "outputs": [],
   "source": [
    "def get_segmented_image(imgpath):\n",
    "    # Load the segmentation model\n",
    "    segmentation_model = YOLO('YOLO_models\\yolov8n-seg.pt')\n",
    "    \n",
    "    # perform the segmentation on the image\n",
    "    results = segmentation_model.predict(imgpath, retina_masks=True)\n",
    "\n",
    "    # get only the segmentation-highlighted objects from the image using the obtained masks\n",
    "    # from https://github.com/ultralytics/ultralytics/issues/1411\n",
    "    for result in results:\n",
    "        mask = result.masks.cpu().numpy()\n",
    "        masks = mask.masks.astype(bool)\n",
    "        ori_img = result.orig_img\n",
    "        for m in masks:\n",
    "            # initialise new segmented image as numpy array\n",
    "            segmented_img = np.zeros_like(ori_img, dtype=np.uint8)\n",
    "            # overlay mask on original image to get segmented image,\n",
    "            # save this as segmented_img\n",
    "            segmented_img[m] = ori_img[m]\n",
    "    \n",
    "    return segmented_img"
   ]
  },
  {
   "cell_type": "code",
   "execution_count": 48,
   "metadata": {},
   "outputs": [],
   "source": [
    "# function that performs the segmentation of the car\n",
    "def save_segmented_image(imgpath_orig, segm_folder):\n",
    "    # get img filename and folder from imgpath\n",
    "    orig_folder, imgfilename = os.path.split(imgpath_orig)\n",
    "    # get image name and extension from the filename\n",
    "    imgname, fileextension = ''.join(imgfilename.split('.')[:-1]), imgfilename.split('.')[-1]\n",
    "    # generate relevant filepaths\n",
    "    imgpath_orig = os.path.join(orig_folder, '.'.join((imgname, fileextension)))\n",
    "    imgpath_segm = os.path.join(segm_folder, '.'.join((imgname + '_segm', fileextension)))\n",
    "    \n",
    "    # perform segmentation\n",
    "    segmented_img = get_segmented_image(imgpath_orig)\n",
    "\n",
    "    # save segmented image\n",
    "    cv2.imwrite(imgpath_segm, segmented_img)"
   ]
  },
  {
   "cell_type": "code",
   "execution_count": 49,
   "metadata": {},
   "outputs": [
    {
     "name": "stderr",
     "output_type": "stream",
     "text": [
      "\n",
      "image 1/1 c:\\Users\\emiel\\OneDrive\\Personal projects\\Machine Learning\\car-recognition-ML\\Data\\Cars\\Audi\\_mg_2867.jpg: 384x640 1 car, 128.6ms\n",
      "Speed: 2.0ms preprocess, 128.6ms inference, 14.3ms postprocess per image at shape (1, 3, 384, 640)\n",
      "WARNING  'Masks.masks' is deprecated. Use 'Masks.data' instead.\n"
     ]
    }
   ],
   "source": [
    "# test these functions\n",
    "orig_imgpath = os.path.join(dir_carsoriginal, 'Audi', '_mg_2867.jpg')\n",
    "save_segmented_image(orig_imgpath, dir_segmentedcars)"
   ]
  }
 ],
 "metadata": {
  "kernelspec": {
   "display_name": "newbase",
   "language": "python",
   "name": "python3"
  },
  "language_info": {
   "codemirror_mode": {
    "name": "ipython",
    "version": 3
   },
   "file_extension": ".py",
   "mimetype": "text/x-python",
   "name": "python",
   "nbconvert_exporter": "python",
   "pygments_lexer": "ipython3",
   "version": "3.11.4"
  },
  "orig_nbformat": 4
 },
 "nbformat": 4,
 "nbformat_minor": 2
}
