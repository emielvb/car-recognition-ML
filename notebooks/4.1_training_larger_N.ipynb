{
 "cells": [
  {
   "cell_type": "markdown",
   "metadata": {},
   "source": [
    "# Training with increased $N_{data}$"
   ]
  },
  {
   "cell_type": "code",
   "execution_count": 1,
   "metadata": {},
   "outputs": [],
   "source": [
    "import tensorflow as tf\n",
    "import os\n",
    "from tensorflow import keras\n",
    "from tensorflow.keras import layers\n",
    "from tensorflow.keras.models import Sequential\n",
    "import numpy as np\n",
    "from matplotlib import pyplot as plt"
   ]
  },
  {
   "cell_type": "code",
   "execution_count": 2,
   "metadata": {},
   "outputs": [],
   "source": [
    "# setup general info on batch sizes and img sizes\n",
    "batch_size = 32\n",
    "img_height = 256\n",
    "img_width = 256"
   ]
  },
  {
   "cell_type": "code",
   "execution_count": 3,
   "metadata": {},
   "outputs": [],
   "source": [
    "# taken from tf tutorial, unknown what this does so far\n",
    "AUTOTUNE = tf.data.AUTOTUNE"
   ]
  },
  {
   "cell_type": "code",
   "execution_count": 4,
   "metadata": {},
   "outputs": [],
   "source": [
    "datadir = os.path.join('..', 'Data', 'Cars')"
   ]
  },
  {
   "cell_type": "code",
   "execution_count": 5,
   "metadata": {},
   "outputs": [
    {
     "name": "stdout",
     "output_type": "stream",
     "text": [
      "Found 31638 files belonging to 5 classes.\n",
      "Using 25311 files for training.\n"
     ]
    }
   ],
   "source": [
    "# generate training dataset\n",
    "train_ds = tf.keras.utils.image_dataset_from_directory(\n",
    "    datadir,\n",
    "    validation_split= 0.2, # let the program know what the validation split will be in order to choose the correct size of this training set as well\n",
    "    subset=\"training\", # here we denote that this set will be the *training* set.\n",
    "    seed=123,\n",
    "    image_size = (img_height, img_width), # rescale images automatically\n",
    "    batch_size= batch_size\n",
    ") \n",
    "\n",
    "# randomly shuffle your data.\n",
    "train_ds_pref = train_ds.cache().shuffle(1000).prefetch(buffer_size=AUTOTUNE)\n",
    "\n",
    "# automatic labelling with this object, based on dict names.\n",
    "class_names = train_ds.class_names"
   ]
  },
  {
   "cell_type": "code",
   "execution_count": 6,
   "metadata": {},
   "outputs": [
    {
     "name": "stdout",
     "output_type": "stream",
     "text": [
      "Found 31638 files belonging to 5 classes.\n",
      "Using 6327 files for validation.\n"
     ]
    }
   ],
   "source": [
    "# generate validation dataset\n",
    "val_ds = tf.keras.utils.image_dataset_from_directory(\n",
    "    datadir,\n",
    "    validation_split= 0.2,\n",
    "    subset=\"validation\", # here we denote that this set will be the *validation* set.\n",
    "    seed=123, \n",
    "    image_size = (img_height, img_width),\n",
    "    batch_size= batch_size\n",
    ")\n",
    "\n",
    "# function of this line is currently unknown.\n",
    "val_ds_pref = val_ds.cache().prefetch(buffer_size=AUTOTUNE)"
   ]
  },
  {
   "cell_type": "code",
   "execution_count": 7,
   "metadata": {},
   "outputs": [],
   "source": [
    "from tensorflow.keras.layers import RandomFlip, RandomRotation, RandomZoom"
   ]
  },
  {
   "cell_type": "code",
   "execution_count": 8,
   "metadata": {},
   "outputs": [],
   "source": [
    "data_augmentation = keras.Sequential(\n",
    "  [\n",
    "    layers.RandomFlip(\"horizontal\",\n",
    "                      input_shape=(img_height,\n",
    "                                  img_width,\n",
    "                                  3)),\n",
    "    layers.RandomRotation(0.1),\n",
    "    layers.RandomZoom(0.1),\n",
    "  ]\n",
    ")"
   ]
  },
  {
   "cell_type": "code",
   "execution_count": 9,
   "metadata": {},
   "outputs": [],
   "source": [
    "from tensorflow.keras.layers import Dropout"
   ]
  },
  {
   "cell_type": "code",
   "execution_count": 10,
   "metadata": {},
   "outputs": [],
   "source": [
    "num_classes = len(class_names)\n",
    "\n",
    "model = Sequential([\n",
    "  data_augmentation, # data augmentation as a very first step\n",
    "  layers.Rescaling(1./255),\n",
    "  layers.Conv2D(16, 3, padding='same', activation='relu'),\n",
    "  layers.MaxPooling2D(),\n",
    "  layers.Conv2D(32, 3, padding='same', activation='relu'),\n",
    "  layers.MaxPooling2D(),\n",
    "  layers.Conv2D(64, 3, padding='same', activation='relu'),\n",
    "  layers.MaxPooling2D(),\n",
    "  layers.Dropout(0.2), # here we perform the dropout.\n",
    "  layers.Flatten(),\n",
    "  layers.Dense(128, activation='relu'),\n",
    "  layers.Dense(num_classes, name=\"outputs\")\n",
    "])"
   ]
  },
  {
   "cell_type": "code",
   "execution_count": 11,
   "metadata": {},
   "outputs": [],
   "source": [
    "# compile the model\n",
    "model.compile(optimizer='adam', # choose the optimizer\n",
    "              loss=tf.keras.losses.SparseCategoricalCrossentropy(from_logits=True), # loss function is same as error function\n",
    "              metrics=['accuracy']) # choose which metrics to keep track of during optimization"
   ]
  },
  {
   "cell_type": "code",
   "execution_count": 12,
   "metadata": {},
   "outputs": [
    {
     "name": "stdout",
     "output_type": "stream",
     "text": [
      "Epoch 1/15\n",
      "791/791 [==============================] - 631s 710ms/step - loss: 1.6055 - accuracy: 0.2383 - val_loss: 1.5931 - val_accuracy: 0.2613\n",
      "Epoch 2/15\n",
      "791/791 [==============================] - 619s 782ms/step - loss: 1.5659 - accuracy: 0.2811 - val_loss: 1.5415 - val_accuracy: 0.3139\n",
      "Epoch 3/15\n",
      "791/791 [==============================] - 596s 753ms/step - loss: 1.5321 - accuracy: 0.3066 - val_loss: 1.4926 - val_accuracy: 0.3463\n",
      "Epoch 4/15\n",
      "791/791 [==============================] - 585s 740ms/step - loss: 1.4865 - accuracy: 0.3413 - val_loss: 1.4770 - val_accuracy: 0.3539\n",
      "Epoch 5/15\n",
      "791/791 [==============================] - 595s 753ms/step - loss: 1.4406 - accuracy: 0.3736 - val_loss: 1.4797 - val_accuracy: 0.3578\n",
      "Epoch 6/15\n",
      "791/791 [==============================] - 586s 741ms/step - loss: 1.3934 - accuracy: 0.3997 - val_loss: 1.3720 - val_accuracy: 0.4275\n",
      "Epoch 7/15\n",
      "791/791 [==============================] - 591s 746ms/step - loss: 1.3466 - accuracy: 0.4313 - val_loss: 1.3357 - val_accuracy: 0.4478\n",
      "Epoch 8/15\n",
      "791/791 [==============================] - 597s 754ms/step - loss: 1.2982 - accuracy: 0.4599 - val_loss: 1.2630 - val_accuracy: 0.4903\n",
      "Epoch 9/15\n",
      "791/791 [==============================] - 593s 749ms/step - loss: 1.2505 - accuracy: 0.4791 - val_loss: 1.2679 - val_accuracy: 0.4938\n",
      "Epoch 10/15\n",
      "791/791 [==============================] - 614s 776ms/step - loss: 1.2092 - accuracy: 0.5026 - val_loss: 1.2194 - val_accuracy: 0.5238\n",
      "Epoch 11/15\n",
      "791/791 [==============================] - 651s 824ms/step - loss: 1.1722 - accuracy: 0.5231 - val_loss: 1.2497 - val_accuracy: 0.5184\n",
      "Epoch 12/15\n",
      "791/791 [==============================] - 612s 774ms/step - loss: 1.1295 - accuracy: 0.5403 - val_loss: 1.1957 - val_accuracy: 0.5396\n",
      "Epoch 13/15\n",
      "791/791 [==============================] - 615s 777ms/step - loss: 1.1047 - accuracy: 0.5534 - val_loss: 1.2123 - val_accuracy: 0.5443\n",
      "Epoch 14/15\n",
      "463/791 [================>.............] - ETA: 3:57 - loss: 1.0776 - accuracy: 0.5663"
     ]
    }
   ],
   "source": [
    "epochs = 15\n",
    "history = model.fit(\n",
    "  train_ds_pref,\n",
    "  validation_data=val_ds_pref,\n",
    "  epochs=epochs\n",
    ")"
   ]
  },
  {
   "cell_type": "code",
   "execution_count": null,
   "metadata": {},
   "outputs": [],
   "source": [
    "from tensorflow.keras.models import load_model"
   ]
  },
  {
   "cell_type": "code",
   "execution_count": null,
   "metadata": {},
   "outputs": [],
   "source": [
    "model.save(os.path.join('..', 'models','large-dataset-no-segmentation-epoch15.h5'))"
   ]
  },
  {
   "cell_type": "code",
   "execution_count": null,
   "metadata": {},
   "outputs": [],
   "source": [
    "def plot_results(history):\n",
    "    acc = history.history['accuracy']\n",
    "    val_acc = history.history['val_accuracy']\n",
    "\n",
    "    loss = history.history['loss']\n",
    "    val_loss = history.history['val_loss']\n",
    "\n",
    "    epochs_range = range(epochs)\n",
    "\n",
    "    plt.figure(figsize=(8, 8))\n",
    "    plt.subplot(1, 2, 1)\n",
    "    plt.plot(epochs_range, acc, label='Training Accuracy')\n",
    "    plt.plot(epochs_range, val_acc, label='Validation Accuracy')\n",
    "    plt.legend(loc='lower right')\n",
    "    plt.title('Training and Validation Accuracy')\n",
    "\n",
    "    plt.subplot(1, 2, 2)\n",
    "    plt.plot(epochs_range, loss, label='Training Loss')\n",
    "    plt.plot(epochs_range, val_loss, label='Validation Loss')\n",
    "    plt.legend(loc='upper right')\n",
    "    plt.title('Training and Validation Loss')\n",
    "    plt.show()"
   ]
  },
  {
   "cell_type": "code",
   "execution_count": null,
   "metadata": {},
   "outputs": [],
   "source": [
    "# plot the training results\n",
    "plot_results(history)"
   ]
  }
 ],
 "metadata": {
  "kernelspec": {
   "display_name": "newbase",
   "language": "python",
   "name": "python3"
  },
  "language_info": {
   "codemirror_mode": {
    "name": "ipython",
    "version": 3
   },
   "file_extension": ".py",
   "mimetype": "text/x-python",
   "name": "python",
   "nbconvert_exporter": "python",
   "pygments_lexer": "ipython3",
   "version": "3.11.4"
  },
  "orig_nbformat": 4
 },
 "nbformat": 4,
 "nbformat_minor": 2
}
